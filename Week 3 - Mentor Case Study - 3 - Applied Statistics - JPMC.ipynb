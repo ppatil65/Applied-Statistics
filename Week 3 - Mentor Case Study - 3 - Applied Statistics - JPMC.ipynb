{
 "cells": [
  {
   "cell_type": "markdown",
   "metadata": {
    "colab_type": "text",
    "id": "-SfrHDb6U0DS"
   },
   "source": [
    "### Package Version\n",
    "- seaborn==0.10.1\n",
    "- pandas==1.0.4\n",
    "- matplotlib==3.2.1"
   ]
  },
  {
   "cell_type": "markdown",
   "metadata": {
    "colab_type": "text",
    "id": "9rQhRypvPS94"
   },
   "source": [
    "# Context:\n",
    "TechCrunch is an American online publisher focusing on the tech industry. The company specifically reports on the business related to tech, technology news, analysis of emerging trends in tech, and profiling of new tech businesses and products.\n",
    "TechCrunch’s Startup Battlefield is the world’s preeminent startup competition. Startup Battlefield features 15-30 top early stage startups pitching top judges in front of a vast live audience, present in person and online. \n",
    "\n",
    "# Data description:\n",
    "Each row in the dataset is a Start-up company and the columns describe the company. \n",
    "\n",
    "**Name** - Name of the company\n",
    "\n",
    "**Website** : Company website\n",
    "\n",
    "**Crunchbase URL** - URL for company's profile in the Tech crunch database\n",
    "\n",
    "**Funds Raised** - Funds raised by the company in USD\n",
    "\n",
    "**Event** - The techcrunch event the company participated in\n",
    "\n",
    "**Outcome** - Described by Contestant, Finalist, Audience choice, Winner or Runnner up,\n",
    "\n",
    "**Status** - Current status of the company Operating, Closed , Aquired or Ipo\n",
    "\n",
    "\n",
    "[Tech Crunch dataset](https://data.world/aurielle/techcrunch-startup-battlefield-all-companies/workspace/file?filename=Copy+of+Blank+Sheet+-+Template+-+Sheet3.csv)\n",
    "\n",
    "\n",
    "# Tasks:\n",
    "**1)** Check if the average funds raised by the companies still operating and the companies that got closed is significantly different\n",
    "\n",
    "**2)** Check if the proportion of companies still operating is different among the companies which came out only as contestants vs companies that either came out as Finalists, Audience choices, Winners or a Runner-ups"
   ]
  },
  {
   "cell_type": "markdown",
   "metadata": {
    "colab_type": "text",
    "id": "wKy7KCX8PS-E"
   },
   "source": [
    "# Import the dataset"
   ]
  },
  {
   "cell_type": "code",
   "execution_count": 4,
   "metadata": {
    "colab": {
     "base_uri": "https://localhost:8080/",
     "height": 408
    },
    "colab_type": "code",
    "executionInfo": {
     "elapsed": 2176,
     "status": "ok",
     "timestamp": 1591877841416,
     "user": {
      "displayName": "Rachan Goalla",
      "photoUrl": "",
      "userId": "08928234019513120444"
     },
     "user_tz": -330
    },
    "id": "KkIU48M_PS-F",
    "outputId": "3c78f78d-74d1-439b-d3d6-b5c5b273dc57"
   },
   "outputs": [
    {
     "name": "stdout",
     "output_type": "stream",
     "text": [
      "(662, 7)\n"
     ]
    },
    {
     "data": {
      "text/html": [
       "<div>\n",
       "<style scoped>\n",
       "    .dataframe tbody tr th:only-of-type {\n",
       "        vertical-align: middle;\n",
       "    }\n",
       "\n",
       "    .dataframe tbody tr th {\n",
       "        vertical-align: top;\n",
       "    }\n",
       "\n",
       "    .dataframe thead th {\n",
       "        text-align: right;\n",
       "    }\n",
       "</style>\n",
       "<table border=\"1\" class=\"dataframe\">\n",
       "  <thead>\n",
       "    <tr style=\"text-align: right;\">\n",
       "      <th></th>\n",
       "      <th>Name</th>\n",
       "      <th>Website</th>\n",
       "      <th>Crunchbase URL</th>\n",
       "      <th>Funds Raised</th>\n",
       "      <th>Event</th>\n",
       "      <th>Outcome</th>\n",
       "      <th>Status</th>\n",
       "    </tr>\n",
       "  </thead>\n",
       "  <tbody>\n",
       "    <tr>\n",
       "      <th>0</th>\n",
       "      <td>2600Hz</td>\n",
       "      <td>2600hz.com</td>\n",
       "      <td>https://www.crunchbase.com/organization/2600hz</td>\n",
       "      <td>NaN</td>\n",
       "      <td>Disrupt SF 2013</td>\n",
       "      <td>Contestant</td>\n",
       "      <td>Operating</td>\n",
       "    </tr>\n",
       "    <tr>\n",
       "      <th>1</th>\n",
       "      <td>3DLT</td>\n",
       "      <td>3dlt.com</td>\n",
       "      <td>https://www.crunchbase.com/organization/3dlt-com</td>\n",
       "      <td>$630K</td>\n",
       "      <td>Disrupt NYC 2013</td>\n",
       "      <td>Contestant</td>\n",
       "      <td>Closed</td>\n",
       "    </tr>\n",
       "    <tr>\n",
       "      <th>2</th>\n",
       "      <td>3DPrinterOS</td>\n",
       "      <td>3dprinteros.com</td>\n",
       "      <td>https://www.crunchbase.com/organization/3dprin...</td>\n",
       "      <td>NaN</td>\n",
       "      <td>Disrupt SF 2016</td>\n",
       "      <td>Contestant</td>\n",
       "      <td>Operating</td>\n",
       "    </tr>\n",
       "    <tr>\n",
       "      <th>3</th>\n",
       "      <td>3Dprintler</td>\n",
       "      <td>3dprintler.com</td>\n",
       "      <td>https://www.crunchbase.com/organization/3dprin...</td>\n",
       "      <td>$1M</td>\n",
       "      <td>Disrupt NY 2016</td>\n",
       "      <td>Audience choice</td>\n",
       "      <td>Operating</td>\n",
       "    </tr>\n",
       "    <tr>\n",
       "      <th>4</th>\n",
       "      <td>42 Technologies</td>\n",
       "      <td>42technologies.com</td>\n",
       "      <td>https://www.crunchbase.com/organization/42</td>\n",
       "      <td>NaN</td>\n",
       "      <td>Disrupt NYC 2013</td>\n",
       "      <td>Contestant</td>\n",
       "      <td>Operating</td>\n",
       "    </tr>\n",
       "  </tbody>\n",
       "</table>\n",
       "</div>"
      ],
      "text/plain": [
       "              Name             Website  \\\n",
       "0           2600Hz          2600hz.com   \n",
       "1             3DLT            3dlt.com   \n",
       "2      3DPrinterOS     3dprinteros.com   \n",
       "3       3Dprintler      3dprintler.com   \n",
       "4  42 Technologies  42technologies.com   \n",
       "\n",
       "                                      Crunchbase URL Funds Raised  \\\n",
       "0     https://www.crunchbase.com/organization/2600hz          NaN   \n",
       "1   https://www.crunchbase.com/organization/3dlt-com        $630K   \n",
       "2  https://www.crunchbase.com/organization/3dprin...          NaN   \n",
       "3  https://www.crunchbase.com/organization/3dprin...          $1M   \n",
       "4         https://www.crunchbase.com/organization/42          NaN   \n",
       "\n",
       "              Event          Outcome     Status  \n",
       "0   Disrupt SF 2013       Contestant  Operating  \n",
       "1  Disrupt NYC 2013       Contestant     Closed  \n",
       "2   Disrupt SF 2016       Contestant  Operating  \n",
       "3   Disrupt NY 2016  Audience choice  Operating  \n",
       "4  Disrupt NYC 2013       Contestant  Operating  "
      ]
     },
     "execution_count": 4,
     "metadata": {},
     "output_type": "execute_result"
    }
   ],
   "source": [
    "import pandas as pd\n",
    "\n",
    "data = pd.read_csv('techcrunch_data.csv')\n",
    "print(data.shape)\n",
    "data.head()"
   ]
  },
  {
   "cell_type": "markdown",
   "metadata": {
    "colab_type": "text",
    "id": "ygfiCUHzPS-K"
   },
   "source": [
    "# Explore the data"
   ]
  },
  {
   "cell_type": "code",
   "execution_count": 5,
   "metadata": {
    "colab": {
     "base_uri": "https://localhost:8080/",
     "height": 153
    },
    "colab_type": "code",
    "executionInfo": {
     "elapsed": 1221,
     "status": "ok",
     "timestamp": 1591877846550,
     "user": {
      "displayName": "Rachan Goalla",
      "photoUrl": "",
      "userId": "08928234019513120444"
     },
     "user_tz": -330
    },
    "id": "Pa2R8FOMPS-L",
    "outputId": "10d0a84f-72a6-4f0a-f08b-cdf1df0c0753"
   },
   "outputs": [
    {
     "data": {
      "text/plain": [
       "Name              object\n",
       "Website           object\n",
       "Crunchbase URL    object\n",
       "Funds Raised      object\n",
       "Event             object\n",
       "Outcome           object\n",
       "Status            object\n",
       "dtype: object"
      ]
     },
     "execution_count": 5,
     "metadata": {},
     "output_type": "execute_result"
    }
   ],
   "source": [
    "data.dtypes"
   ]
  },
  {
   "cell_type": "markdown",
   "metadata": {
    "colab_type": "text",
    "id": "vVjAPFtIPS-R"
   },
   "source": [
    "- All the columns are of object type \n",
    "- However, we would need the column \"Funds Raised\" to be of numerical data type\n",
    "- We shall treat that later"
   ]
  },
  {
   "cell_type": "code",
   "execution_count": 6,
   "metadata": {
    "colab": {
     "base_uri": "https://localhost:8080/",
     "height": 153
    },
    "colab_type": "code",
    "executionInfo": {
     "elapsed": 1307,
     "status": "ok",
     "timestamp": 1591877849517,
     "user": {
      "displayName": "Rachan Goalla",
      "photoUrl": "",
      "userId": "08928234019513120444"
     },
     "user_tz": -330
    },
    "id": "cVBCU4HjPS-R",
    "outputId": "45b01249-8856-4118-bace-28b547c2bad2"
   },
   "outputs": [
    {
     "data": {
      "text/plain": [
       "Name                0\n",
       "Website             6\n",
       "Crunchbase URL      0\n",
       "Funds Raised      214\n",
       "Event               0\n",
       "Outcome             0\n",
       "Status              0\n",
       "dtype: int64"
      ]
     },
     "execution_count": 6,
     "metadata": {},
     "output_type": "execute_result"
    }
   ],
   "source": [
    "data.isna().sum()"
   ]
  },
  {
   "cell_type": "markdown",
   "metadata": {
    "colab_type": "text",
    "id": "0A8VWSP4PS-W"
   },
   "source": [
    "- Turns out we do not have data of funds raised by all the companies\n",
    "- We would need need it to perform the first task, hence we will have to ignore the companies of which we do not have data for the funds they raised"
   ]
  },
  {
   "cell_type": "code",
   "execution_count": 7,
   "metadata": {
    "colab": {},
    "colab_type": "code",
    "id": "kTDkY58rPS-W"
   },
   "outputs": [],
   "source": [
    "df1 = data.dropna().copy(deep=True)   # drop the rows which have no data for funds raised"
   ]
  },
  {
   "cell_type": "code",
   "execution_count": 8,
   "metadata": {
    "colab": {
     "base_uri": "https://localhost:8080/",
     "height": 119
    },
    "colab_type": "code",
    "executionInfo": {
     "elapsed": 1058,
     "status": "ok",
     "timestamp": 1591877855565,
     "user": {
      "displayName": "Rachan Goalla",
      "photoUrl": "",
      "userId": "08928234019513120444"
     },
     "user_tz": -330
    },
    "id": "zVmif6nrPS-a",
    "outputId": "d50418ba-e4e4-442c-fe99-8e3d5b9b63e3"
   },
   "outputs": [
    {
     "data": {
      "text/plain": [
       "20       $1.9M\n",
       "200    $310.5K\n",
       "35       $7.1M\n",
       "503      $700K\n",
       "22         $4M\n",
       "Name: Funds Raised, dtype: object"
      ]
     },
     "execution_count": 8,
     "metadata": {},
     "output_type": "execute_result"
    }
   ],
   "source": [
    "df1['Funds Raised'].sample(5)"
   ]
  },
  {
   "cell_type": "markdown",
   "metadata": {
    "colab_type": "text",
    "id": "n0uTWE-rPS-f"
   },
   "source": [
    "- We do not have absolute numbers to directly use in our tests\n",
    "- The values need some pre-processing\n",
    "- We will strip the values of the dollar sign and the abbreviations\n",
    "- First we will have to check all the various abbreviations that the numbers are represented by, then based on the abbreviation we have to bring those numbers on the same scale"
   ]
  },
  {
   "cell_type": "code",
   "execution_count": 9,
   "metadata": {
    "colab": {},
    "colab_type": "code",
    "id": "RyeWbxKoPS-f"
   },
   "outputs": [],
   "source": [
    "df1.loc[:,'Funds_in_million'] = df1['Funds Raised'].apply(lambda x: float(x[1:-1])/1000 if x[-1] == 'K' else (float(x[1:-1])*1000 if x[-1] == 'B' else float(x[1:-1])))"
   ]
  },
  {
   "cell_type": "markdown",
   "metadata": {
    "colab_type": "text",
    "id": "7y5CKvf5PS-j"
   },
   "source": [
    "**Code Explanation:**\n",
    "Within the lambda function, we passed two if else blocks. If the last element in the value is 'K', then divide the number by 1000 else, if it is 'B', multiply by 1000 else, return as it is. We passed this lambda function to the apply method which we used on the 'Funds Raised' column and assigned the result to a new column ('funds_in_million') in the dataframe"
   ]
  },
  {
   "cell_type": "code",
   "execution_count": 11,
   "metadata": {
    "colab": {
     "base_uri": "https://localhost:8080/",
     "height": 247
    },
    "colab_type": "code",
    "executionInfo": {
     "elapsed": 1007,
     "status": "ok",
     "timestamp": 1591877859956,
     "user": {
      "displayName": "Rachan Goalla",
      "photoUrl": "",
      "userId": "08928234019513120444"
     },
     "user_tz": -330
    },
    "id": "Fd8sHLZiPS-k",
    "outputId": "651438a5-519a-4547-bb6e-40f7a819b794"
   },
   "outputs": [
    {
     "data": {
      "text/html": [
       "<div>\n",
       "<style scoped>\n",
       "    .dataframe tbody tr th:only-of-type {\n",
       "        vertical-align: middle;\n",
       "    }\n",
       "\n",
       "    .dataframe tbody tr th {\n",
       "        vertical-align: top;\n",
       "    }\n",
       "\n",
       "    .dataframe thead th {\n",
       "        text-align: right;\n",
       "    }\n",
       "</style>\n",
       "<table border=\"1\" class=\"dataframe\">\n",
       "  <thead>\n",
       "    <tr style=\"text-align: right;\">\n",
       "      <th></th>\n",
       "      <th>Name</th>\n",
       "      <th>Website</th>\n",
       "      <th>Crunchbase URL</th>\n",
       "      <th>Funds Raised</th>\n",
       "      <th>Event</th>\n",
       "      <th>Outcome</th>\n",
       "      <th>Status</th>\n",
       "      <th>Funds_in_million</th>\n",
       "    </tr>\n",
       "  </thead>\n",
       "  <tbody>\n",
       "    <tr>\n",
       "      <th>227</th>\n",
       "      <td>gulu.com</td>\n",
       "      <td>gulu.com</td>\n",
       "      <td>https://www.crunchbase.com/organization/gulu-com</td>\n",
       "      <td>$300K</td>\n",
       "      <td>Disrupt Beijing 2011</td>\n",
       "      <td>Contestant</td>\n",
       "      <td>Closed</td>\n",
       "      <td>0.3</td>\n",
       "    </tr>\n",
       "    <tr>\n",
       "      <th>616</th>\n",
       "      <td>Viewdle</td>\n",
       "      <td>viewdle.com</td>\n",
       "      <td>https://www.crunchbase.com/organization/viewdle</td>\n",
       "      <td>$12M</td>\n",
       "      <td>TC40 2007</td>\n",
       "      <td>Contestant</td>\n",
       "      <td>Acquired</td>\n",
       "      <td>12.0</td>\n",
       "    </tr>\n",
       "    <tr>\n",
       "      <th>263</th>\n",
       "      <td>Insensi</td>\n",
       "      <td>ily.co</td>\n",
       "      <td>https://www.crunchbase.com/organization/insensi</td>\n",
       "      <td>$3M</td>\n",
       "      <td>Hardware Battlefield 2016</td>\n",
       "      <td>Contestant</td>\n",
       "      <td>Acquired</td>\n",
       "      <td>3.0</td>\n",
       "    </tr>\n",
       "  </tbody>\n",
       "</table>\n",
       "</div>"
      ],
      "text/plain": [
       "         Name      Website                                    Crunchbase URL  \\\n",
       "227  gulu.com     gulu.com  https://www.crunchbase.com/organization/gulu-com   \n",
       "616   Viewdle  viewdle.com   https://www.crunchbase.com/organization/viewdle   \n",
       "263   Insensi       ily.co   https://www.crunchbase.com/organization/insensi   \n",
       "\n",
       "    Funds Raised                      Event     Outcome    Status  \\\n",
       "227        $300K       Disrupt Beijing 2011  Contestant    Closed   \n",
       "616         $12M                  TC40 2007  Contestant  Acquired   \n",
       "263          $3M  Hardware Battlefield 2016  Contestant  Acquired   \n",
       "\n",
       "     Funds_in_million  \n",
       "227               0.3  \n",
       "616              12.0  \n",
       "263               3.0  "
      ]
     },
     "execution_count": 11,
     "metadata": {},
     "output_type": "execute_result"
    }
   ],
   "source": [
    "df1.sample(3)"
   ]
  },
  {
   "cell_type": "markdown",
   "metadata": {
    "colab_type": "text",
    "id": "kC_dMaijPS-o"
   },
   "source": [
    "- Run the above cell a couple of times to quickly verify the values\n",
    "- We have brought the data to a usable form for analysis\n",
    "\n",
    "\n",
    "### Task 1"
   ]
  },
  {
   "cell_type": "code",
   "execution_count": 12,
   "metadata": {
    "colab": {
     "base_uri": "https://localhost:8080/",
     "height": 281
    },
    "colab_type": "code",
    "executionInfo": {
     "elapsed": 1189,
     "status": "ok",
     "timestamp": 1591877901565,
     "user": {
      "displayName": "Rachan Goalla",
      "photoUrl": "",
      "userId": "08928234019513120444"
     },
     "user_tz": -330
    },
    "id": "lQeG92utPS-o",
    "outputId": "0e7b0f18-05d1-4e0a-b986-8ef4b9b3c272"
   },
   "outputs": [
    {
     "data": {
      "image/png": "[encoded data removed]",
      "text/plain": [
       "<Figure size 432x288 with 1 Axes>"
      ]
     },
     "metadata": {
      "needs_background": "light"
     },
     "output_type": "display_data"
    }
   ],
   "source": [
    "%matplotlib inline\n",
    "from matplotlib import pyplot as plt\n",
    "\n",
    "plot = plt.boxplot(df1.Funds_in_million)\n",
    "plt.title('Boxplot of the funds')\n",
    "plt.ylabel(\"Funds raised (in Million)\")\n",
    "\n",
    "plt.show()"
   ]
  },
  {
   "cell_type": "markdown",
   "metadata": {
    "colab_type": "text",
    "id": "Q-1smJEvPS-s"
   },
   "source": [
    "- There are significant outliers in the data\n",
    "- For the purpose of this test, we shall remove them"
   ]
  },
  {
   "cell_type": "code",
   "execution_count": 13,
   "metadata": {
    "colab": {
     "base_uri": "https://localhost:8080/",
     "height": 34
    },
    "colab_type": "code",
    "executionInfo": {
     "elapsed": 926,
     "status": "ok",
     "timestamp": 1591877905157,
     "user": {
      "displayName": "Rachan Goalla",
      "photoUrl": "",
      "userId": "08928234019513120444"
     },
     "user_tz": -330
    },
    "id": "lQhoHZAHPS-t",
    "outputId": "87e18e66-a0fc-49b2-a110-36a4c491637e"
   },
   "outputs": [
    {
     "data": {
      "text/plain": [
       "22.0"
      ]
     },
     "execution_count": 13,
     "metadata": {},
     "output_type": "execute_result"
    }
   ],
   "source": [
    "upper_fence = plot['caps'][1].get_data()[1][1]   # we can use the values from the box plot itself to get the upper fence\n",
    "upper_fence"
   ]
  },
  {
   "cell_type": "code",
   "execution_count": 12,
   "metadata": {
    "colab": {
     "base_uri": "https://localhost:8080/",
     "height": 1000
    },
    "colab_type": "code",
    "executionInfo": {
     "elapsed": 743,
     "status": "ok",
     "timestamp": 1591877906558,
     "user": {
      "displayName": "Rachan Goalla",
      "photoUrl": "",
      "userId": "08928234019513120444"
     },
     "user_tz": -330
    },
    "id": "E-yeydWMPS-z",
    "outputId": "144e0b39-a569-4caa-bc1c-03a667015cd8"
   },
   "outputs": [
    {
     "name": "stdout",
     "output_type": "stream",
     "text": [
      "Number of outliers = 60\n"
     ]
    },
    {
     "data": {
      "text/html": [
       "<div>\n",
       "<style scoped>\n",
       "    .dataframe tbody tr th:only-of-type {\n",
       "        vertical-align: middle;\n",
       "    }\n",
       "\n",
       "    .dataframe tbody tr th {\n",
       "        vertical-align: top;\n",
       "    }\n",
       "\n",
       "    .dataframe thead th {\n",
       "        text-align: right;\n",
       "    }\n",
       "</style>\n",
       "<table border=\"1\" class=\"dataframe\">\n",
       "  <thead>\n",
       "    <tr style=\"text-align: right;\">\n",
       "      <th></th>\n",
       "      <th>Name</th>\n",
       "      <th>Website</th>\n",
       "      <th>Crunchbase URL</th>\n",
       "      <th>Funds Raised</th>\n",
       "      <th>Event</th>\n",
       "      <th>Outcome</th>\n",
       "      <th>Status</th>\n",
       "      <th>Funds_in_million</th>\n",
       "    </tr>\n",
       "  </thead>\n",
       "  <tbody>\n",
       "    <tr>\n",
       "      <th>6</th>\n",
       "      <td>8 Securities</td>\n",
       "      <td>8securities.com</td>\n",
       "      <td>https://www.crunchbase.com/organization/8-secu...</td>\n",
       "      <td>$29M</td>\n",
       "      <td>Disrupt Beijing 2011</td>\n",
       "      <td>Finalist</td>\n",
       "      <td>Operating</td>\n",
       "      <td>29.0</td>\n",
       "    </tr>\n",
       "    <tr>\n",
       "      <th>31</th>\n",
       "      <td>Anyclip</td>\n",
       "      <td>anyclip.com</td>\n",
       "      <td>https://www.crunchbase.com/organization/anyclip</td>\n",
       "      <td>$24M</td>\n",
       "      <td>TC50 2009</td>\n",
       "      <td>Finalist</td>\n",
       "      <td>Operating</td>\n",
       "      <td>24.0</td>\n",
       "    </tr>\n",
       "    <tr>\n",
       "      <th>40</th>\n",
       "      <td>Artsy</td>\n",
       "      <td>artsy.net</td>\n",
       "      <td>https://www.crunchbase.com/organization/art-sy</td>\n",
       "      <td>$50.9M</td>\n",
       "      <td>Disrupt NYC 2010</td>\n",
       "      <td>Contestant</td>\n",
       "      <td>Operating</td>\n",
       "      <td>50.9</td>\n",
       "    </tr>\n",
       "    <tr>\n",
       "      <th>49</th>\n",
       "      <td>Badgeville</td>\n",
       "      <td>badgeville.com</td>\n",
       "      <td>https://www.crunchbase.com/organization/badgev...</td>\n",
       "      <td>$40M</td>\n",
       "      <td>Disrupt SF 2010</td>\n",
       "      <td>Finalist</td>\n",
       "      <td>Acquired</td>\n",
       "      <td>40.0</td>\n",
       "    </tr>\n",
       "    <tr>\n",
       "      <th>56</th>\n",
       "      <td>Betterment</td>\n",
       "      <td>betterment.com</td>\n",
       "      <td>https://www.crunchbase.com/organization/better...</td>\n",
       "      <td>$205M</td>\n",
       "      <td>Disrupt NYC 2010</td>\n",
       "      <td>Finalist</td>\n",
       "      <td>Operating</td>\n",
       "      <td>205.0</td>\n",
       "    </tr>\n",
       "    <tr>\n",
       "      <th>108</th>\n",
       "      <td>Clickable</td>\n",
       "      <td>clickable.com</td>\n",
       "      <td>https://www.crunchbase.com/organization/clickable</td>\n",
       "      <td>$32.5M</td>\n",
       "      <td>TC40 2007</td>\n",
       "      <td>Finalist</td>\n",
       "      <td>Acquired</td>\n",
       "      <td>32.5</td>\n",
       "    </tr>\n",
       "    <tr>\n",
       "      <th>113</th>\n",
       "      <td>Cloudflare</td>\n",
       "      <td>cloudflare.com</td>\n",
       "      <td>https://www.crunchbase.com/organization/cloudf...</td>\n",
       "      <td>$182.1M</td>\n",
       "      <td>Disrupt SF 2010</td>\n",
       "      <td>Runner up</td>\n",
       "      <td>Operating</td>\n",
       "      <td>182.1</td>\n",
       "    </tr>\n",
       "    <tr>\n",
       "      <th>128</th>\n",
       "      <td>Credit Sesame</td>\n",
       "      <td>creditsesame.com</td>\n",
       "      <td>https://www.crunchbase.com/organization/credit...</td>\n",
       "      <td>$35.4M</td>\n",
       "      <td>Disrupt SF 2010</td>\n",
       "      <td>Contestant</td>\n",
       "      <td>Operating</td>\n",
       "      <td>35.4</td>\n",
       "    </tr>\n",
       "    <tr>\n",
       "      <th>130</th>\n",
       "      <td>CrowdFlower Inc.</td>\n",
       "      <td>crowdflower.com</td>\n",
       "      <td>https://www.crunchbase.com/organization/crowdf...</td>\n",
       "      <td>$38M</td>\n",
       "      <td>TC50 2009</td>\n",
       "      <td>Contestant</td>\n",
       "      <td>Operating</td>\n",
       "      <td>38.0</td>\n",
       "    </tr>\n",
       "    <tr>\n",
       "      <th>132</th>\n",
       "      <td>Cubic Telecom</td>\n",
       "      <td>cubictelecom.com</td>\n",
       "      <td>https://www.crunchbase.com/organization/cubict...</td>\n",
       "      <td>$37.1M</td>\n",
       "      <td>TC40 2007</td>\n",
       "      <td>Contestant</td>\n",
       "      <td>Operating</td>\n",
       "      <td>37.1</td>\n",
       "    </tr>\n",
       "    <tr>\n",
       "      <th>138</th>\n",
       "      <td>DataSift</td>\n",
       "      <td>datasift.com</td>\n",
       "      <td>https://www.crunchbase.com/organization/datasift</td>\n",
       "      <td>$72M</td>\n",
       "      <td>Disrupt SF 2010</td>\n",
       "      <td>Finalist</td>\n",
       "      <td>Operating</td>\n",
       "      <td>72.0</td>\n",
       "    </tr>\n",
       "    <tr>\n",
       "      <th>139</th>\n",
       "      <td>DataXu</td>\n",
       "      <td>dataxu.com</td>\n",
       "      <td>https://www.crunchbase.com/organization/dataxu</td>\n",
       "      <td>$64M</td>\n",
       "      <td>TC50 2009</td>\n",
       "      <td>Contestant</td>\n",
       "      <td>Operating</td>\n",
       "      <td>64.0</td>\n",
       "    </tr>\n",
       "    <tr>\n",
       "      <th>154</th>\n",
       "      <td>Dropbox</td>\n",
       "      <td>dropbox.com</td>\n",
       "      <td>https://www.crunchbase.com/organization/dropbox</td>\n",
       "      <td>$1.7B</td>\n",
       "      <td>TC50 2008</td>\n",
       "      <td>Contestant</td>\n",
       "      <td>Operating</td>\n",
       "      <td>1700.0</td>\n",
       "    </tr>\n",
       "    <tr>\n",
       "      <th>166</th>\n",
       "      <td>Enigma</td>\n",
       "      <td>enigma.io</td>\n",
       "      <td>https://www.crunchbase.com/organization/enigma...</td>\n",
       "      <td>$34.6M</td>\n",
       "      <td>Disrupt NYC 2013</td>\n",
       "      <td>Winner</td>\n",
       "      <td>Operating</td>\n",
       "      <td>34.6</td>\n",
       "    </tr>\n",
       "    <tr>\n",
       "      <th>172</th>\n",
       "      <td>EverythingMe</td>\n",
       "      <td>everything.me</td>\n",
       "      <td>https://www.crunchbase.com/organization/everyt...</td>\n",
       "      <td>$35.5M</td>\n",
       "      <td>Disrupt NYC 2011</td>\n",
       "      <td>Contestant</td>\n",
       "      <td>Closed</td>\n",
       "      <td>35.5</td>\n",
       "    </tr>\n",
       "    <tr>\n",
       "      <th>179</th>\n",
       "      <td>Famo.us</td>\n",
       "      <td>famo.us</td>\n",
       "      <td>https://www.crunchbase.com/organization/famo-us</td>\n",
       "      <td>$30.1M</td>\n",
       "      <td>Disrupt SF 2012</td>\n",
       "      <td>Contestant</td>\n",
       "      <td>Operating</td>\n",
       "      <td>30.1</td>\n",
       "    </tr>\n",
       "    <tr>\n",
       "      <th>180</th>\n",
       "      <td>Farmigo</td>\n",
       "      <td>farmigo.com</td>\n",
       "      <td>https://www.crunchbase.com/organization/farmigo</td>\n",
       "      <td>$26M</td>\n",
       "      <td>Disrupt SF 2011</td>\n",
       "      <td>Finalist</td>\n",
       "      <td>Operating</td>\n",
       "      <td>26.0</td>\n",
       "    </tr>\n",
       "    <tr>\n",
       "      <th>188</th>\n",
       "      <td>Fitbit</td>\n",
       "      <td>fitbit.com</td>\n",
       "      <td>https://www.crunchbase.com/organization/fitbit</td>\n",
       "      <td>$66M</td>\n",
       "      <td>TC50 2008</td>\n",
       "      <td>Finalist</td>\n",
       "      <td>Ipo</td>\n",
       "      <td>66.0</td>\n",
       "    </tr>\n",
       "    <tr>\n",
       "      <th>191</th>\n",
       "      <td>Flock</td>\n",
       "      <td>flock.com</td>\n",
       "      <td>https://www.crunchbase.com/organization/flock</td>\n",
       "      <td>$28.3M</td>\n",
       "      <td>TC40 2007</td>\n",
       "      <td>Contestant</td>\n",
       "      <td>Acquired</td>\n",
       "      <td>28.3</td>\n",
       "    </tr>\n",
       "    <tr>\n",
       "      <th>209</th>\n",
       "      <td>Getaround</td>\n",
       "      <td>getaround.com</td>\n",
       "      <td>https://www.crunchbase.com/organization/getaround</td>\n",
       "      <td>$103M</td>\n",
       "      <td>Disrupt NYC 2011</td>\n",
       "      <td>Winner</td>\n",
       "      <td>Operating</td>\n",
       "      <td>103.0</td>\n",
       "    </tr>\n",
       "    <tr>\n",
       "      <th>213</th>\n",
       "      <td>Gild</td>\n",
       "      <td>gild.com</td>\n",
       "      <td>https://www.crunchbase.com/organization/gild</td>\n",
       "      <td>$25.9M</td>\n",
       "      <td>Disrupt SF 2010</td>\n",
       "      <td>Contestant</td>\n",
       "      <td>Acquired</td>\n",
       "      <td>25.9</td>\n",
       "    </tr>\n",
       "    <tr>\n",
       "      <th>215</th>\n",
       "      <td>Glide</td>\n",
       "      <td>glide.me</td>\n",
       "      <td>https://www.crunchbase.com/organization/glide</td>\n",
       "      <td>$36.5M</td>\n",
       "      <td>Disrupt NYC 2013</td>\n",
       "      <td>Audience choice</td>\n",
       "      <td>Operating</td>\n",
       "      <td>36.5</td>\n",
       "    </tr>\n",
       "    <tr>\n",
       "      <th>225</th>\n",
       "      <td>Grockit</td>\n",
       "      <td>grockit.com</td>\n",
       "      <td>https://www.crunchbase.com/organization/grockit</td>\n",
       "      <td>$44.7M</td>\n",
       "      <td>TC50 2008</td>\n",
       "      <td>Finalist</td>\n",
       "      <td>Acquired</td>\n",
       "      <td>44.7</td>\n",
       "    </tr>\n",
       "    <tr>\n",
       "      <th>231</th>\n",
       "      <td>HackerRank</td>\n",
       "      <td>hackerrank.com</td>\n",
       "      <td>https://www.crunchbase.com/organization/hacker...</td>\n",
       "      <td>$24.2M</td>\n",
       "      <td>Disrupt SF 2012</td>\n",
       "      <td>Contestant</td>\n",
       "      <td>Operating</td>\n",
       "      <td>24.2</td>\n",
       "    </tr>\n",
       "    <tr>\n",
       "      <th>271</th>\n",
       "      <td>Ionic Security</td>\n",
       "      <td>ionicsecurity.com</td>\n",
       "      <td>https://www.crunchbase.com/organization/ionic-...</td>\n",
       "      <td>$122.4M</td>\n",
       "      <td>Disrupt SF 2012</td>\n",
       "      <td>Contestant</td>\n",
       "      <td>Operating</td>\n",
       "      <td>122.4</td>\n",
       "    </tr>\n",
       "    <tr>\n",
       "      <th>276</th>\n",
       "      <td>IZEA</td>\n",
       "      <td>izea.com</td>\n",
       "      <td>https://www.crunchbase.com/organization/izea</td>\n",
       "      <td>$34.9M</td>\n",
       "      <td>Disrupt NYC 2010</td>\n",
       "      <td>Contestant</td>\n",
       "      <td>Ipo</td>\n",
       "      <td>34.9</td>\n",
       "    </tr>\n",
       "    <tr>\n",
       "      <th>279</th>\n",
       "      <td>Jiff</td>\n",
       "      <td>jiff.com</td>\n",
       "      <td>https://www.crunchbase.com/organization/jiff</td>\n",
       "      <td>$67.8M</td>\n",
       "      <td>Disrupt SF 2011</td>\n",
       "      <td>Contestant</td>\n",
       "      <td>Acquired</td>\n",
       "      <td>67.8</td>\n",
       "    </tr>\n",
       "    <tr>\n",
       "      <th>282</th>\n",
       "      <td>Kaltura</td>\n",
       "      <td>kaltura.com</td>\n",
       "      <td>https://www.crunchbase.com/organization/kaltura</td>\n",
       "      <td>$166.1M</td>\n",
       "      <td>TC40 2007</td>\n",
       "      <td>Audience choice</td>\n",
       "      <td>Operating</td>\n",
       "      <td>166.1</td>\n",
       "    </tr>\n",
       "    <tr>\n",
       "      <th>302</th>\n",
       "      <td>Layer</td>\n",
       "      <td>layer.com</td>\n",
       "      <td>https://www.crunchbase.com/organization/layer</td>\n",
       "      <td>$42.1M</td>\n",
       "      <td>Disrupt SF 2013</td>\n",
       "      <td>Winner</td>\n",
       "      <td>Operating</td>\n",
       "      <td>42.1</td>\n",
       "    </tr>\n",
       "    <tr>\n",
       "      <th>305</th>\n",
       "      <td>LearnVest</td>\n",
       "      <td>learnvest.com</td>\n",
       "      <td>https://www.crunchbase.com/organization/learnvest</td>\n",
       "      <td>$69M</td>\n",
       "      <td>TC50 2009</td>\n",
       "      <td>Contestant</td>\n",
       "      <td>Acquired</td>\n",
       "      <td>69.0</td>\n",
       "    </tr>\n",
       "    <tr>\n",
       "      <th>313</th>\n",
       "      <td>LiveIntent</td>\n",
       "      <td>liveintent.com</td>\n",
       "      <td>https://www.crunchbase.com/organization/livein...</td>\n",
       "      <td>$65.1M</td>\n",
       "      <td>Disrupt NYC 2010</td>\n",
       "      <td>Audience choice</td>\n",
       "      <td>Operating</td>\n",
       "      <td>65.1</td>\n",
       "    </tr>\n",
       "    <tr>\n",
       "      <th>325</th>\n",
       "      <td>Lystable</td>\n",
       "      <td>lystable.com</td>\n",
       "      <td>https://www.crunchbase.com/organization/lystable</td>\n",
       "      <td>$25.1M</td>\n",
       "      <td>Disrupt London 2015</td>\n",
       "      <td>Finalist</td>\n",
       "      <td>Operating</td>\n",
       "      <td>25.1</td>\n",
       "    </tr>\n",
       "    <tr>\n",
       "      <th>346</th>\n",
       "      <td>Mint</td>\n",
       "      <td>mint.com</td>\n",
       "      <td>https://www.crunchbase.com/organization/mint</td>\n",
       "      <td>$31.8M</td>\n",
       "      <td>TC40 2007</td>\n",
       "      <td>Winner</td>\n",
       "      <td>Acquired</td>\n",
       "      <td>31.8</td>\n",
       "    </tr>\n",
       "    <tr>\n",
       "      <th>389</th>\n",
       "      <td>OrderWithMe</td>\n",
       "      <td>orderwithme.com</td>\n",
       "      <td>https://www.crunchbase.com/organization/orderw...</td>\n",
       "      <td>$37M</td>\n",
       "      <td>Disrupt Beijing 2011</td>\n",
       "      <td>Winner</td>\n",
       "      <td>Operating</td>\n",
       "      <td>37.0</td>\n",
       "    </tr>\n",
       "    <tr>\n",
       "      <th>393</th>\n",
       "      <td>Osmo</td>\n",
       "      <td>playosmo.com</td>\n",
       "      <td>https://www.crunchbase.com/organization/osmo</td>\n",
       "      <td>$38.5M</td>\n",
       "      <td>Disrupt SF 2013</td>\n",
       "      <td>Contestant</td>\n",
       "      <td>Operating</td>\n",
       "      <td>38.5</td>\n",
       "    </tr>\n",
       "    <tr>\n",
       "      <th>394</th>\n",
       "      <td>Ossia</td>\n",
       "      <td>ossia.com</td>\n",
       "      <td>https://www.crunchbase.com/organization/ossia</td>\n",
       "      <td>$25.5M</td>\n",
       "      <td>Disrupt SF 2013</td>\n",
       "      <td>Runner up</td>\n",
       "      <td>Operating</td>\n",
       "      <td>25.5</td>\n",
       "    </tr>\n",
       "    <tr>\n",
       "      <th>398</th>\n",
       "      <td>Owlet Baby Care</td>\n",
       "      <td>owletcare.com</td>\n",
       "      <td>https://www.crunchbase.com/organization/owlet</td>\n",
       "      <td>$24M</td>\n",
       "      <td>Hardware Battlefield 2014</td>\n",
       "      <td>Runner up</td>\n",
       "      <td>Operating</td>\n",
       "      <td>24.0</td>\n",
       "    </tr>\n",
       "    <tr>\n",
       "      <th>427</th>\n",
       "      <td>Postmates</td>\n",
       "      <td>postmates.com</td>\n",
       "      <td>https://www.crunchbase.com/organization/postmates</td>\n",
       "      <td>$278M</td>\n",
       "      <td>Disrupt SF 2011</td>\n",
       "      <td>Contestant</td>\n",
       "      <td>Operating</td>\n",
       "      <td>278.0</td>\n",
       "    </tr>\n",
       "    <tr>\n",
       "      <th>432</th>\n",
       "      <td>Prism Skylabs</td>\n",
       "      <td>prism.com</td>\n",
       "      <td>https://www.crunchbase.com/organization/prism-...</td>\n",
       "      <td>$24M</td>\n",
       "      <td>Disrupt SF 2011</td>\n",
       "      <td>Runner up</td>\n",
       "      <td>Operating</td>\n",
       "      <td>24.0</td>\n",
       "    </tr>\n",
       "    <tr>\n",
       "      <th>435</th>\n",
       "      <td>PubMatic</td>\n",
       "      <td>pubmatic.com</td>\n",
       "      <td>https://www.crunchbase.com/organization/pubmatic</td>\n",
       "      <td>$63M</td>\n",
       "      <td>TC40 2007</td>\n",
       "      <td>Contestant</td>\n",
       "      <td>Operating</td>\n",
       "      <td>63.0</td>\n",
       "    </tr>\n",
       "    <tr>\n",
       "      <th>460</th>\n",
       "      <td>Roadie</td>\n",
       "      <td>roadie.com</td>\n",
       "      <td>https://www.crunchbase.com/organization/roadie-2</td>\n",
       "      <td>$25M</td>\n",
       "      <td>Disrupt NYC 2014</td>\n",
       "      <td>Audience choice</td>\n",
       "      <td>Operating</td>\n",
       "      <td>25.0</td>\n",
       "    </tr>\n",
       "    <tr>\n",
       "      <th>471</th>\n",
       "      <td>SeatGeek</td>\n",
       "      <td>seatgeek.com</td>\n",
       "      <td>https://www.crunchbase.com/organization/seatgeek</td>\n",
       "      <td>$160M</td>\n",
       "      <td>TC50 2009</td>\n",
       "      <td>Contestant</td>\n",
       "      <td>Operating</td>\n",
       "      <td>160.0</td>\n",
       "    </tr>\n",
       "    <tr>\n",
       "      <th>546</th>\n",
       "      <td>StyleSeat</td>\n",
       "      <td>styleseat.com</td>\n",
       "      <td>https://www.crunchbase.com/organization/styleseat</td>\n",
       "      <td>$40M</td>\n",
       "      <td>Disrupt NYC 2011</td>\n",
       "      <td>Contestant</td>\n",
       "      <td>Operating</td>\n",
       "      <td>40.0</td>\n",
       "    </tr>\n",
       "    <tr>\n",
       "      <th>555</th>\n",
       "      <td>Symphony Commerce</td>\n",
       "      <td>symphonycommerce.com</td>\n",
       "      <td>https://www.crunchbase.com/organization/sympho...</td>\n",
       "      <td>$47.4M</td>\n",
       "      <td>Disrupt NYC 2011</td>\n",
       "      <td>Contestant</td>\n",
       "      <td>Operating</td>\n",
       "      <td>47.4</td>\n",
       "    </tr>\n",
       "    <tr>\n",
       "      <th>560</th>\n",
       "      <td>Talkdesk</td>\n",
       "      <td>talkdesk.com</td>\n",
       "      <td>https://www.crunchbase.com/organization/talkdesk</td>\n",
       "      <td>$24.5M</td>\n",
       "      <td>Disrupt NYC 2012</td>\n",
       "      <td>Contestant</td>\n",
       "      <td>Operating</td>\n",
       "      <td>24.5</td>\n",
       "    </tr>\n",
       "    <tr>\n",
       "      <th>581</th>\n",
       "      <td>TouchPal</td>\n",
       "      <td>touchpal.com</td>\n",
       "      <td>https://www.crunchbase.com/organization/touchpal</td>\n",
       "      <td>$25M</td>\n",
       "      <td>Disrupt Beijing 2011</td>\n",
       "      <td>Finalist</td>\n",
       "      <td>Operating</td>\n",
       "      <td>25.0</td>\n",
       "    </tr>\n",
       "    <tr>\n",
       "      <th>593</th>\n",
       "      <td>TrueCar</td>\n",
       "      <td>truecar.com</td>\n",
       "      <td>https://www.crunchbase.com/organization/truecar</td>\n",
       "      <td>$332.4M</td>\n",
       "      <td>TC50 2008</td>\n",
       "      <td>Contestant</td>\n",
       "      <td>Ipo</td>\n",
       "      <td>332.4</td>\n",
       "    </tr>\n",
       "    <tr>\n",
       "      <th>598</th>\n",
       "      <td>UberConference</td>\n",
       "      <td>uberconference.com</td>\n",
       "      <td>https://www.crunchbase.com/organization/uberco...</td>\n",
       "      <td>$35M</td>\n",
       "      <td>Disrupt NYC 2012</td>\n",
       "      <td>Winner</td>\n",
       "      <td>Operating</td>\n",
       "      <td>35.0</td>\n",
       "    </tr>\n",
       "    <tr>\n",
       "      <th>606</th>\n",
       "      <td>Upwork</td>\n",
       "      <td>upwork.com</td>\n",
       "      <td>https://www.crunchbase.com/organization/odesk</td>\n",
       "      <td>$168.8M</td>\n",
       "      <td>TC50 2009</td>\n",
       "      <td>Audience choice</td>\n",
       "      <td>Operating</td>\n",
       "      <td>168.8</td>\n",
       "    </tr>\n",
       "    <tr>\n",
       "      <th>615</th>\n",
       "      <td>VideoSurf</td>\n",
       "      <td>videosurf.com</td>\n",
       "      <td>https://www.crunchbase.com/organization/videosurf</td>\n",
       "      <td>$28M</td>\n",
       "      <td>TC50 2008</td>\n",
       "      <td>Contestant</td>\n",
       "      <td>Acquired</td>\n",
       "      <td>28.0</td>\n",
       "    </tr>\n",
       "    <tr>\n",
       "      <th>625</th>\n",
       "      <td>Voxy</td>\n",
       "      <td>voxy.com</td>\n",
       "      <td>https://www.crunchbase.com/organization/voxy</td>\n",
       "      <td>$30.8M</td>\n",
       "      <td>Disrupt SF 2010</td>\n",
       "      <td>Contestant</td>\n",
       "      <td>Operating</td>\n",
       "      <td>30.8</td>\n",
       "    </tr>\n",
       "    <tr>\n",
       "      <th>643</th>\n",
       "      <td>Xobni</td>\n",
       "      <td>yahoo.com</td>\n",
       "      <td>https://www.crunchbase.com/organization/xobni</td>\n",
       "      <td>$41.8M</td>\n",
       "      <td>TC40 2007</td>\n",
       "      <td>Contestant</td>\n",
       "      <td>Acquired</td>\n",
       "      <td>41.8</td>\n",
       "    </tr>\n",
       "    <tr>\n",
       "      <th>644</th>\n",
       "      <td>Yammer</td>\n",
       "      <td>yammer.com</td>\n",
       "      <td>https://www.crunchbase.com/organization/yammer</td>\n",
       "      <td>$142M</td>\n",
       "      <td>TC50 2008</td>\n",
       "      <td>Winner</td>\n",
       "      <td>Acquired</td>\n",
       "      <td>142.0</td>\n",
       "    </tr>\n",
       "    <tr>\n",
       "      <th>647</th>\n",
       "      <td>Yext</td>\n",
       "      <td>yext.com</td>\n",
       "      <td>https://www.crunchbase.com/organization/yext</td>\n",
       "      <td>$117.8M</td>\n",
       "      <td>TC50 2009</td>\n",
       "      <td>Contestant</td>\n",
       "      <td>Ipo</td>\n",
       "      <td>117.8</td>\n",
       "    </tr>\n",
       "    <tr>\n",
       "      <th>649</th>\n",
       "      <td>YouNow</td>\n",
       "      <td>younow.com</td>\n",
       "      <td>https://www.crunchbase.com/organization/younow</td>\n",
       "      <td>$26M</td>\n",
       "      <td>Disrupt SF 2011</td>\n",
       "      <td>Contestant</td>\n",
       "      <td>Operating</td>\n",
       "      <td>26.0</td>\n",
       "    </tr>\n",
       "    <tr>\n",
       "      <th>650</th>\n",
       "      <td>YourMechanic</td>\n",
       "      <td>yourmechanic.com</td>\n",
       "      <td>https://www.crunchbase.com/organization/yourme...</td>\n",
       "      <td>$28M</td>\n",
       "      <td>Disrupt SF 2012</td>\n",
       "      <td>Winner</td>\n",
       "      <td>Operating</td>\n",
       "      <td>28.0</td>\n",
       "    </tr>\n",
       "    <tr>\n",
       "      <th>654</th>\n",
       "      <td>ZEFR</td>\n",
       "      <td>zefr.com</td>\n",
       "      <td>https://www.crunchbase.com/organization/zefr</td>\n",
       "      <td>$62.1M</td>\n",
       "      <td>Disrupt NYC 2010</td>\n",
       "      <td>Contestant</td>\n",
       "      <td>Operating</td>\n",
       "      <td>62.1</td>\n",
       "    </tr>\n",
       "    <tr>\n",
       "      <th>656</th>\n",
       "      <td>Zenefits</td>\n",
       "      <td>zenefits.com</td>\n",
       "      <td>https://www.crunchbase.com/organization/zenefits</td>\n",
       "      <td>$583.6M</td>\n",
       "      <td>Disrupt NYC 2013</td>\n",
       "      <td>Finalist</td>\n",
       "      <td>Operating</td>\n",
       "      <td>583.6</td>\n",
       "    </tr>\n",
       "    <tr>\n",
       "      <th>659</th>\n",
       "      <td>Zocdoc</td>\n",
       "      <td>zocdoc.com</td>\n",
       "      <td>https://www.crunchbase.com/organization/zocdoc</td>\n",
       "      <td>$223M</td>\n",
       "      <td>TC40 2007</td>\n",
       "      <td>Contestant</td>\n",
       "      <td>Operating</td>\n",
       "      <td>223.0</td>\n",
       "    </tr>\n",
       "    <tr>\n",
       "      <th>661</th>\n",
       "      <td>Zumper</td>\n",
       "      <td>zumper.com</td>\n",
       "      <td>https://www.crunchbase.com/organization/zumper</td>\n",
       "      <td>$31.5M</td>\n",
       "      <td>Disrupt SF 2012</td>\n",
       "      <td>Finalist</td>\n",
       "      <td>Operating</td>\n",
       "      <td>31.5</td>\n",
       "    </tr>\n",
       "  </tbody>\n",
       "</table>\n",
       "</div>"
      ],
      "text/plain": [
       "                  Name               Website  ...     Status Funds_in_million\n",
       "6         8 Securities       8securities.com  ...  Operating             29.0\n",
       "31             Anyclip           anyclip.com  ...  Operating             24.0\n",
       "40               Artsy             artsy.net  ...  Operating             50.9\n",
       "49          Badgeville        badgeville.com  ...   Acquired             40.0\n",
       "56          Betterment        betterment.com  ...  Operating            205.0\n",
       "108          Clickable         clickable.com  ...   Acquired             32.5\n",
       "113         Cloudflare        cloudflare.com  ...  Operating            182.1\n",
       "128      Credit Sesame      creditsesame.com  ...  Operating             35.4\n",
       "130   CrowdFlower Inc.       crowdflower.com  ...  Operating             38.0\n",
       "132      Cubic Telecom      cubictelecom.com  ...  Operating             37.1\n",
       "138           DataSift          datasift.com  ...  Operating             72.0\n",
       "139             DataXu            dataxu.com  ...  Operating             64.0\n",
       "154            Dropbox           dropbox.com  ...  Operating           1700.0\n",
       "166             Enigma             enigma.io  ...  Operating             34.6\n",
       "172       EverythingMe         everything.me  ...     Closed             35.5\n",
       "179            Famo.us               famo.us  ...  Operating             30.1\n",
       "180            Farmigo           farmigo.com  ...  Operating             26.0\n",
       "188             Fitbit            fitbit.com  ...        Ipo             66.0\n",
       "191              Flock             flock.com  ...   Acquired             28.3\n",
       "209          Getaround         getaround.com  ...  Operating            103.0\n",
       "213               Gild              gild.com  ...   Acquired             25.9\n",
       "215              Glide              glide.me  ...  Operating             36.5\n",
       "225            Grockit           grockit.com  ...   Acquired             44.7\n",
       "231         HackerRank        hackerrank.com  ...  Operating             24.2\n",
       "271     Ionic Security     ionicsecurity.com  ...  Operating            122.4\n",
       "276               IZEA              izea.com  ...        Ipo             34.9\n",
       "279               Jiff              jiff.com  ...   Acquired             67.8\n",
       "282            Kaltura           kaltura.com  ...  Operating            166.1\n",
       "302              Layer             layer.com  ...  Operating             42.1\n",
       "305          LearnVest         learnvest.com  ...   Acquired             69.0\n",
       "313         LiveIntent        liveintent.com  ...  Operating             65.1\n",
       "325           Lystable          lystable.com  ...  Operating             25.1\n",
       "346               Mint              mint.com  ...   Acquired             31.8\n",
       "389        OrderWithMe       orderwithme.com  ...  Operating             37.0\n",
       "393               Osmo          playosmo.com  ...  Operating             38.5\n",
       "394              Ossia             ossia.com  ...  Operating             25.5\n",
       "398    Owlet Baby Care         owletcare.com  ...  Operating             24.0\n",
       "427          Postmates         postmates.com  ...  Operating            278.0\n",
       "432      Prism Skylabs             prism.com  ...  Operating             24.0\n",
       "435           PubMatic          pubmatic.com  ...  Operating             63.0\n",
       "460             Roadie            roadie.com  ...  Operating             25.0\n",
       "471           SeatGeek          seatgeek.com  ...  Operating            160.0\n",
       "546          StyleSeat         styleseat.com  ...  Operating             40.0\n",
       "555  Symphony Commerce  symphonycommerce.com  ...  Operating             47.4\n",
       "560           Talkdesk          talkdesk.com  ...  Operating             24.5\n",
       "581           TouchPal          touchpal.com  ...  Operating             25.0\n",
       "593            TrueCar           truecar.com  ...        Ipo            332.4\n",
       "598     UberConference    uberconference.com  ...  Operating             35.0\n",
       "606             Upwork            upwork.com  ...  Operating            168.8\n",
       "615          VideoSurf         videosurf.com  ...   Acquired             28.0\n",
       "625               Voxy              voxy.com  ...  Operating             30.8\n",
       "643              Xobni             yahoo.com  ...   Acquired             41.8\n",
       "644             Yammer            yammer.com  ...   Acquired            142.0\n",
       "647               Yext              yext.com  ...        Ipo            117.8\n",
       "649             YouNow            younow.com  ...  Operating             26.0\n",
       "650       YourMechanic      yourmechanic.com  ...  Operating             28.0\n",
       "654               ZEFR              zefr.com  ...  Operating             62.1\n",
       "656           Zenefits          zenefits.com  ...  Operating            583.6\n",
       "659             Zocdoc            zocdoc.com  ...  Operating            223.0\n",
       "661             Zumper            zumper.com  ...  Operating             31.5\n",
       "\n",
       "[60 rows x 8 columns]"
      ]
     },
     "execution_count": 12,
     "metadata": {
      "tags": []
     },
     "output_type": "execute_result"
    }
   ],
   "source": [
    "print(f'Number of outliers = {len(df1[df1.Funds_in_million > upper_fence])}')\n",
    "\n",
    "df1[df1.Funds_in_million > upper_fence]"
   ]
  },
  {
   "cell_type": "markdown",
   "metadata": {
    "colab_type": "text",
    "id": "aRtC-PfxPS-3"
   },
   "source": [
    "- The above 60 records are of companies that have been funded excessively in comparision to the others in the pool\n",
    "- Let's see the distribution without these outliers"
   ]
  },
  {
   "cell_type": "code",
   "execution_count": 0,
   "metadata": {
    "colab": {},
    "colab_type": "code",
    "id": "VJwQHexhPS-4"
   },
   "outputs": [],
   "source": [
    "df1.drop(df1[df1.Funds_in_million > upper_fence].index, inplace = True)"
   ]
  },
  {
   "cell_type": "code",
   "execution_count": 14,
   "metadata": {
    "colab": {
     "base_uri": "https://localhost:8080/",
     "height": 281
    },
    "colab_type": "code",
    "executionInfo": {
     "elapsed": 896,
     "status": "ok",
     "timestamp": 1591877911948,
     "user": {
      "displayName": "Rachan Goalla",
      "photoUrl": "",
      "userId": "08928234019513120444"
     },
     "user_tz": -330
    },
    "id": "E9GBcH4uPS-7",
    "outputId": "2f8e6149-195a-41af-ea97-91339ff97fa9",
    "scrolled": true
   },
   "outputs": [
    {
     "data": {
      "image/png": "[encoded data removed]",
      "text/plain": [
       "<Figure size 432x288 with 1 Axes>"
      ]
     },
     "metadata": {
      "needs_background": "light",
      "tags": []
     },
     "output_type": "display_data"
    }
   ],
   "source": [
    "plot = plt.boxplot(df1.Funds_in_million)\n",
    "plt.title('Boxplot of funds without the original outliers')\n",
    "plt.ylabel(\"Funds raised (in Million)\")\n",
    "plt.show()"
   ]
  },
  {
   "cell_type": "code",
   "execution_count": 14,
   "metadata": {
    "colab": {
     "base_uri": "https://localhost:8080/",
     "height": 85
    },
    "colab_type": "code",
    "executionInfo": {
     "elapsed": 642,
     "status": "ok",
     "timestamp": 1591877913400,
     "user": {
      "displayName": "Rachan Goalla",
      "photoUrl": "",
      "userId": "08928234019513120444"
     },
     "user_tz": -330
    },
    "id": "uZnwyUnuPS-_",
    "outputId": "3f4e90a0-2450-4900-a9d1-69626d1635ab"
   },
   "outputs": [
    {
     "data": {
      "text/plain": [
       "Operating    319\n",
       "Acquired      66\n",
       "Closed        57\n",
       "Ipo            4\n",
       "Name: Status, dtype: int64"
      ]
     },
     "execution_count": 14,
     "metadata": {},
     "output_type": "execute_result"
    }
   ],
   "source": [
    "df1.Status.value_counts()"
   ]
  },
  {
   "cell_type": "markdown",
   "metadata": {
    "colab_type": "text",
    "id": "LCiC-ANdPS_D"
   },
   "source": [
    "- Our companies of interest for task 1 are 275 companies that are opetaring and 57 that got closed"
   ]
  },
  {
   "cell_type": "code",
   "execution_count": 16,
   "metadata": {
    "colab": {
     "base_uri": "https://localhost:8080/",
     "height": 350
    },
    "colab_type": "code",
    "executionInfo": {
     "elapsed": 1451,
     "status": "ok",
     "timestamp": 1591877939224,
     "user": {
      "displayName": "Rachan Goalla",
      "photoUrl": "",
      "userId": "08928234019513120444"
     },
     "user_tz": -330
    },
    "id": "0QQ-83eMPS_E",
    "outputId": "9234902c-d67a-4ebc-d3c9-8eb467c79a97"
   },
   "outputs": [
    {
     "name": "stderr",
     "output_type": "stream",
     "text": [
      "/usr/local/lib/python3.6/dist-packages/statsmodels/tools/_testing.py:19: FutureWarning: pandas.util.testing is deprecated. Use the functions in the public API at pandas.testing instead.\n",
      "  import pandas.util.testing as tm\n"
     ]
    },
    {
     "data": {
      "image/png": "[encoded data removed]",
      "text/plain": [
       "<Figure size 432x288 with 1 Axes>"
      ]
     },
     "metadata": {
      "needs_background": "light",
      "tags": []
     },
     "output_type": "display_data"
    }
   ],
   "source": [
    "import seaborn as sns\n",
    "\n",
    "sns.distplot(df1.Funds_in_million)\n",
    "plt.title('Distribution of funds raised across all companies')\n",
    "plt.show()"
   ]
  },
  {
   "cell_type": "code",
   "execution_count": 17,
   "metadata": {
    "colab": {
     "base_uri": "https://localhost:8080/",
     "height": 170
    },
    "colab_type": "code",
    "executionInfo": {
     "elapsed": 806,
     "status": "ok",
     "timestamp": 1591877941920,
     "user": {
      "displayName": "Rachan Goalla",
      "photoUrl": "",
      "userId": "08928234019513120444"
     },
     "user_tz": -330
    },
    "id": "YFRcl7KePS_I",
    "outputId": "d5d4fb45-d714-4ee2-dc4d-377f193cfdee"
   },
   "outputs": [
    {
     "data": {
      "text/plain": [
       "count    386.00000\n",
       "mean       3.72514\n",
       "std        4.73236\n",
       "min        0.00500\n",
       "25%        0.60000\n",
       "50%        1.70000\n",
       "75%        5.00000\n",
       "max       22.00000\n",
       "Name: Funds_in_million, dtype: float64"
      ]
     },
     "execution_count": 17,
     "metadata": {
      "tags": []
     },
     "output_type": "execute_result"
    }
   ],
   "source": [
    "df1.Funds_in_million.describe()"
   ]
  },
  {
   "cell_type": "markdown",
   "metadata": {
    "colab_type": "text",
    "id": "MzvD9WH-PS_M"
   },
   "source": [
    "- 75% of the companies have less than 5 million raised funds, the max however is 22\n",
    "- Even after removing the outliers, the data is pretty heavily skewed"
   ]
  },
  {
   "cell_type": "code",
   "execution_count": 23,
   "metadata": {
    "colab": {
     "base_uri": "https://localhost:8080/",
     "height": 349
    },
    "colab_type": "code",
    "executionInfo": {
     "elapsed": 1588,
     "status": "ok",
     "timestamp": 1591877945198,
     "user": {
      "displayName": "Rachan Goalla",
      "photoUrl": "",
      "userId": "08928234019513120444"
     },
     "user_tz": -330
    },
    "id": "qy1O5u9OPS_M",
    "outputId": "17e29f4a-18af-424b-deaf-1870cbd7521a"
   },
   "outputs": [
    {
     "ename": "NameError",
     "evalue": "name 'sns' is not defined",
     "output_type": "error",
     "traceback": [
      "\u001b[1;31m---------------------------------------------------------------------------\u001b[0m",
      "\u001b[1;31mNameError\u001b[0m                                 Traceback (most recent call last)",
      "\u001b[1;32m<ipython-input-23-ebdcda06bd4c>\u001b[0m in \u001b[0;36m<module>\u001b[1;34m\u001b[0m\n\u001b[0;32m      4\u001b[0m \u001b[0mfig\u001b[0m\u001b[1;33m.\u001b[0m\u001b[0mset_figwidth\u001b[0m\u001b[1;33m(\u001b[0m\u001b[1;36m15\u001b[0m\u001b[1;33m)\u001b[0m\u001b[1;33m\u001b[0m\u001b[1;33m\u001b[0m\u001b[0m\n\u001b[0;32m      5\u001b[0m \u001b[1;33m\u001b[0m\u001b[0m\n\u001b[1;32m----> 6\u001b[1;33m \u001b[0msns\u001b[0m\u001b[1;33m.\u001b[0m\u001b[0mdistplot\u001b[0m\u001b[1;33m(\u001b[0m\u001b[0mdf1\u001b[0m\u001b[1;33m.\u001b[0m\u001b[0mloc\u001b[0m\u001b[1;33m[\u001b[0m\u001b[0mdf1\u001b[0m\u001b[1;33m.\u001b[0m\u001b[0mStatus\u001b[0m \u001b[1;33m==\u001b[0m \u001b[1;34m'Operating'\u001b[0m\u001b[1;33m,\u001b[0m \u001b[1;34m'Funds_in_million'\u001b[0m\u001b[1;33m]\u001b[0m\u001b[1;33m,\u001b[0m \u001b[0max\u001b[0m \u001b[1;33m=\u001b[0m \u001b[0max\u001b[0m\u001b[1;33m[\u001b[0m\u001b[1;36m0\u001b[0m\u001b[1;33m]\u001b[0m\u001b[1;33m)\u001b[0m\u001b[1;33m\u001b[0m\u001b[1;33m\u001b[0m\u001b[0m\n\u001b[0m\u001b[0;32m      7\u001b[0m \u001b[0msns\u001b[0m\u001b[1;33m.\u001b[0m\u001b[0mdistplot\u001b[0m\u001b[1;33m(\u001b[0m\u001b[0mdf1\u001b[0m\u001b[1;33m.\u001b[0m\u001b[0mloc\u001b[0m\u001b[1;33m[\u001b[0m\u001b[0mdf1\u001b[0m\u001b[1;33m.\u001b[0m\u001b[0mStatus\u001b[0m \u001b[1;33m==\u001b[0m\u001b[1;34m'Closed'\u001b[0m\u001b[1;33m,\u001b[0m \u001b[1;34m'Funds_in_million'\u001b[0m\u001b[1;33m]\u001b[0m\u001b[1;33m,\u001b[0m \u001b[0max\u001b[0m \u001b[1;33m=\u001b[0m \u001b[0max\u001b[0m\u001b[1;33m[\u001b[0m\u001b[1;36m1\u001b[0m\u001b[1;33m]\u001b[0m\u001b[1;33m)\u001b[0m\u001b[1;33m\u001b[0m\u001b[1;33m\u001b[0m\u001b[0m\n\u001b[0;32m      8\u001b[0m \u001b[1;33m\u001b[0m\u001b[0m\n",
      "\u001b[1;31mNameError\u001b[0m: name 'sns' is not defined"
     ]
    },
    {
     "data": {
      "image/png": "[encoded data removed]",
      "text/plain": [
       "<Figure size 1080x360 with 2 Axes>"
      ]
     },
     "metadata": {
      "needs_background": "light"
     },
     "output_type": "display_data"
    }
   ],
   "source": [
    "fig, ax = plt.subplots(1, 2)\n",
    "\n",
    "fig.set_figheight(5)\n",
    "fig.set_figwidth(15)\n",
    "\n",
    "sns.distplot(df1.loc[df1.Status == 'Operating', 'Funds_in_million'], ax = ax[0])\n",
    "sns.distplot(df1.loc[df1.Status =='Closed', 'Funds_in_million'], ax = ax[1])\n",
    "\n",
    "ax[0].set_title('Funds raised by the companies still operating')\n",
    "ax[1].set_title('Funds raised by companies that got closed')\n",
    "plt.show()"
   ]
  },
  {
   "cell_type": "markdown",
   "metadata": {
    "colab_type": "text",
    "id": "SyoE0GcJPS_Q"
   },
   "source": [
    "- Visually the distributions are quiet similar\n",
    "- To prove if there is a significant difference or not we will have to perform a hypothesis test\n",
    "- Since we want to compare the difference in means of the samples, we can either use 2 sample t test or z-test\n",
    "- For this exercise we shall do both and compare the results\n",
    "- One thing to notice is that the distributions are not normal yet, since our sample size is reasonably big ( >30 samples), we will go ahead with the aforementioned tests\n",
    "\n",
    "For the first test, \n",
    "\n",
    "**Null hypothesis (Ho)** : There is no difference between the two means\n",
    "\n",
    "**Alternate hypothesis (Ha)** : There is significant difference between the two means"
   ]
  },
  {
   "cell_type": "code",
   "execution_count": 19,
   "metadata": {
    "colab": {
     "base_uri": "https://localhost:8080/",
     "height": 51
    },
    "colab_type": "code",
    "executionInfo": {
     "elapsed": 1040,
     "status": "ok",
     "timestamp": 1591877953344,
     "user": {
      "displayName": "Rachan Goalla",
      "photoUrl": "",
      "userId": "08928234019513120444"
     },
     "user_tz": -330
    },
    "id": "J1_GyOrYPS_R",
    "outputId": "aaa08f3f-b3df-44d3-dd7f-8e6d50d32156"
   },
   "outputs": [
    {
     "name": "stdout",
     "output_type": "stream",
     "text": [
      "\t Since the p-value, 0.192 > 0.05 (alpha) the difference is not significant and,\n",
      "    \t we fail to reject the Null hypothesis\n"
     ]
    }
   ],
   "source": [
    "from statsmodels.stats.weightstats import ztest\n",
    "\n",
    "sample1 = df1.loc[df1.Status == 'Operating', 'Funds_in_million']\n",
    "sample2 = df1.loc[df1.Status =='Closed', 'Funds_in_million']\n",
    "\n",
    "alpha = 0.05   # Let's consider a significance level of 5%\n",
    "\n",
    "test_statistic, p_value = ztest(sample1, sample2)\n",
    "\n",
    "if p_value <= alpha:\n",
    "    print(f'Since the p-value, {round(p_value, 3)} < {alpha} (alpha) the difference is significant and we reject the Null hypothesis')\n",
    "else:\n",
    "    print(f'''\\t Since the p-value, {round(p_value,3)} > {alpha} (alpha) the difference is not significant and,\n",
    "    \\t we fail to reject the Null hypothesis''')\n",
    "    "
   ]
  },
  {
   "cell_type": "code",
   "execution_count": 20,
   "metadata": {
    "colab": {
     "base_uri": "https://localhost:8080/",
     "height": 51
    },
    "colab_type": "code",
    "executionInfo": {
     "elapsed": 695,
     "status": "ok",
     "timestamp": 1591877954982,
     "user": {
      "displayName": "Rachan Goalla",
      "photoUrl": "",
      "userId": "08928234019513120444"
     },
     "user_tz": -330
    },
    "id": "fuB7IsUgPS_d",
    "outputId": "643f2759-7c8a-4786-f15d-2da0d40c610d"
   },
   "outputs": [
    {
     "name": "stdout",
     "output_type": "stream",
     "text": [
      "\t Since the p-value, 0.193 > 0.05 (alpha) the difference is not significant and,\n",
      "    \t we fail to reject the Null hypothesis\n"
     ]
    }
   ],
   "source": [
    "from scipy.stats import ttest_ind\n",
    "\n",
    "test_statistic, p_value = ttest_ind(sample1, sample2)\n",
    "\n",
    "if p_value <= alpha:\n",
    "    print(f'Since the p-value, {round(p_value, 3)} < {alpha} (alpha) the difference is significant and we reject the Null hypothesis')\n",
    "else:\n",
    "    print(f'''\\t Since the p-value, {round(p_value,3)} > {alpha} (alpha) the difference is not significant and,\n",
    "    \\t we fail to reject the Null hypothesis''')"
   ]
  },
  {
   "cell_type": "markdown",
   "metadata": {
    "colab_type": "text",
    "id": "ftSB4ckQPS_h"
   },
   "source": [
    "- From the tests above we found no evidence to state that the companies that have raised more money tend to suceed more or vice-versa"
   ]
  },
  {
   "cell_type": "markdown",
   "metadata": {
    "colab_type": "text",
    "id": "ZSWhkxJbPS_i"
   },
   "source": [
    "### Task 2"
   ]
  },
  {
   "cell_type": "code",
   "execution_count": 18,
   "metadata": {
    "colab": {
     "base_uri": "https://localhost:8080/",
     "height": 391
    },
    "colab_type": "code",
    "executionInfo": {
     "elapsed": 1118,
     "status": "ok",
     "timestamp": 1591877961131,
     "user": {
      "displayName": "Rachan Goalla",
      "photoUrl": "",
      "userId": "08928234019513120444"
     },
     "user_tz": -330
    },
    "id": "RnFuK4HjPS_j",
    "outputId": "fb0f8bc9-d4c8-416d-c4a0-e84d38cc2f6d"
   },
   "outputs": [
    {
     "data": {
      "text/html": [
       "<div>\n",
       "<style scoped>\n",
       "    .dataframe tbody tr th:only-of-type {\n",
       "        vertical-align: middle;\n",
       "    }\n",
       "\n",
       "    .dataframe tbody tr th {\n",
       "        vertical-align: top;\n",
       "    }\n",
       "\n",
       "    .dataframe thead th {\n",
       "        text-align: right;\n",
       "    }\n",
       "</style>\n",
       "<table border=\"1\" class=\"dataframe\">\n",
       "  <thead>\n",
       "    <tr style=\"text-align: right;\">\n",
       "      <th></th>\n",
       "      <th>Name</th>\n",
       "      <th>Website</th>\n",
       "      <th>Crunchbase URL</th>\n",
       "      <th>Funds Raised</th>\n",
       "      <th>Event</th>\n",
       "      <th>Outcome</th>\n",
       "      <th>Status</th>\n",
       "    </tr>\n",
       "  </thead>\n",
       "  <tbody>\n",
       "    <tr>\n",
       "      <th>0</th>\n",
       "      <td>2600Hz</td>\n",
       "      <td>2600hz.com</td>\n",
       "      <td>https://www.crunchbase.com/organization/2600hz</td>\n",
       "      <td>NaN</td>\n",
       "      <td>Disrupt SF 2013</td>\n",
       "      <td>Contestant</td>\n",
       "      <td>Operating</td>\n",
       "    </tr>\n",
       "    <tr>\n",
       "      <th>1</th>\n",
       "      <td>3DLT</td>\n",
       "      <td>3dlt.com</td>\n",
       "      <td>https://www.crunchbase.com/organization/3dlt-com</td>\n",
       "      <td>$630K</td>\n",
       "      <td>Disrupt NYC 2013</td>\n",
       "      <td>Contestant</td>\n",
       "      <td>Closed</td>\n",
       "    </tr>\n",
       "    <tr>\n",
       "      <th>2</th>\n",
       "      <td>3DPrinterOS</td>\n",
       "      <td>3dprinteros.com</td>\n",
       "      <td>https://www.crunchbase.com/organization/3dprin...</td>\n",
       "      <td>NaN</td>\n",
       "      <td>Disrupt SF 2016</td>\n",
       "      <td>Contestant</td>\n",
       "      <td>Operating</td>\n",
       "    </tr>\n",
       "    <tr>\n",
       "      <th>3</th>\n",
       "      <td>3Dprintler</td>\n",
       "      <td>3dprintler.com</td>\n",
       "      <td>https://www.crunchbase.com/organization/3dprin...</td>\n",
       "      <td>$1M</td>\n",
       "      <td>Disrupt NY 2016</td>\n",
       "      <td>Audience choice</td>\n",
       "      <td>Operating</td>\n",
       "    </tr>\n",
       "    <tr>\n",
       "      <th>4</th>\n",
       "      <td>42 Technologies</td>\n",
       "      <td>42technologies.com</td>\n",
       "      <td>https://www.crunchbase.com/organization/42</td>\n",
       "      <td>NaN</td>\n",
       "      <td>Disrupt NYC 2013</td>\n",
       "      <td>Contestant</td>\n",
       "      <td>Operating</td>\n",
       "    </tr>\n",
       "  </tbody>\n",
       "</table>\n",
       "</div>"
      ],
      "text/plain": [
       "              Name             Website  \\\n",
       "0           2600Hz          2600hz.com   \n",
       "1             3DLT            3dlt.com   \n",
       "2      3DPrinterOS     3dprinteros.com   \n",
       "3       3Dprintler      3dprintler.com   \n",
       "4  42 Technologies  42technologies.com   \n",
       "\n",
       "                                      Crunchbase URL Funds Raised  \\\n",
       "0     https://www.crunchbase.com/organization/2600hz          NaN   \n",
       "1   https://www.crunchbase.com/organization/3dlt-com        $630K   \n",
       "2  https://www.crunchbase.com/organization/3dprin...          NaN   \n",
       "3  https://www.crunchbase.com/organization/3dprin...          $1M   \n",
       "4         https://www.crunchbase.com/organization/42          NaN   \n",
       "\n",
       "              Event          Outcome     Status  \n",
       "0   Disrupt SF 2013       Contestant  Operating  \n",
       "1  Disrupt NYC 2013       Contestant     Closed  \n",
       "2   Disrupt SF 2016       Contestant  Operating  \n",
       "3   Disrupt NY 2016  Audience choice  Operating  \n",
       "4  Disrupt NYC 2013       Contestant  Operating  "
      ]
     },
     "execution_count": 18,
     "metadata": {},
     "output_type": "execute_result"
    }
   ],
   "source": [
    "df2 = data.copy(deep = True)\n",
    "df2.head()"
   ]
  },
  {
   "cell_type": "code",
   "execution_count": 19,
   "metadata": {
    "colab": {
     "base_uri": "https://localhost:8080/",
     "height": 119
    },
    "colab_type": "code",
    "executionInfo": {
     "elapsed": 654,
     "status": "ok",
     "timestamp": 1591877962874,
     "user": {
      "displayName": "Rachan Goalla",
      "photoUrl": "",
      "userId": "08928234019513120444"
     },
     "user_tz": -330
    },
    "id": "xhlIl3CNPS_m",
    "outputId": "cf2cdc3d-5cce-424c-ed54-1324adfa7bd4"
   },
   "outputs": [
    {
     "data": {
      "text/plain": [
       "Contestant         488\n",
       "Finalist            84\n",
       "Audience choice     41\n",
       "Winner              26\n",
       "Runner up           23\n",
       "Name: Outcome, dtype: int64"
      ]
     },
     "execution_count": 19,
     "metadata": {},
     "output_type": "execute_result"
    }
   ],
   "source": [
    "df2.Outcome.value_counts()"
   ]
  },
  {
   "cell_type": "markdown",
   "metadata": {
    "colab_type": "text",
    "id": "LeyzuxO4PS_o"
   },
   "source": [
    "- There are 488 who remained contestants and the rest came out as something more, we'll call all of them winners for now"
   ]
  },
  {
   "cell_type": "code",
   "execution_count": 20,
   "metadata": {
    "colab": {},
    "colab_type": "code",
    "id": "-IEc5coMPS_p"
   },
   "outputs": [],
   "source": [
    "winners = df2.Outcome.value_counts()[1:].sum()\n",
    "contestants = df2.Outcome.value_counts()['Contestant']"
   ]
  },
  {
   "cell_type": "code",
   "execution_count": 21,
   "metadata": {
    "colab": {},
    "colab_type": "code",
    "id": "d5N9HvRsPS_u"
   },
   "outputs": [],
   "source": [
    "contestants_operating = df2.Status[df2.Outcome == 'Contestant'].value_counts().loc['Operating']\n",
    "winners_operating = df2.Status[df2.Outcome != 'Contestant'].value_counts().loc['Operating']\n"
   ]
  },
  {
   "cell_type": "code",
   "execution_count": 22,
   "metadata": {
    "colab": {
     "base_uri": "https://localhost:8080/",
     "height": 34
    },
    "colab_type": "code",
    "executionInfo": {
     "elapsed": 627,
     "status": "ok",
     "timestamp": 1591877968067,
     "user": {
      "displayName": "Rachan Goalla",
      "photoUrl": "",
      "userId": "08928234019513120444"
     },
     "user_tz": -330
    },
    "id": "IO9jAzIFPS_z",
    "outputId": "b0998f6f-528d-4904-ff7a-cec4bc8ab254"
   },
   "outputs": [
    {
     "data": {
      "text/plain": [
       "(0.764367816091954, 0.680327868852459)"
      ]
     },
     "execution_count": 22,
     "metadata": {},
     "output_type": "execute_result"
    }
   ],
   "source": [
    "winners_operating/winners, contestants_operating/contestants"
   ]
  },
  {
   "cell_type": "markdown",
   "metadata": {
    "colab_type": "text",
    "id": "5o3l__ekPS_3"
   },
   "source": [
    "- There is some difference between the proportion operational companies in the two categories, but let's see if the differnce is significant\n",
    "- There are two ways we can check if the difference is significant\n",
    "    - Z-test for proportions\n",
    "    - Chi-square test\n",
    "- We shall perform z-test in this case, however, do experiment with Chi-square test and observe if the p-value from both tests gives the same conclusion or not\n",
    "\n",
    "**Null hyputhesis (Ho)**: The proportion of companies that are operating is the same in both categories - winners and contestants\n",
    "\n",
    "**Alternative hypothesis (Ha)**: The proportion of companies that are operating is significantly different from each other, among the two categories"
   ]
  },
  {
   "cell_type": "code",
   "execution_count": 26,
   "metadata": {
    "colab": {
     "base_uri": "https://localhost:8080/",
     "height": 34
    },
    "colab_type": "code",
    "executionInfo": {
     "elapsed": 939,
     "status": "ok",
     "timestamp": 1591877971055,
     "user": {
      "displayName": "Rachan Goalla",
      "photoUrl": "",
      "userId": "08928234019513120444"
     },
     "user_tz": -330
    },
    "id": "sYHsJho-PS_4",
    "outputId": "2545b21f-dedc-4bc3-9030-26be61cad0f1"
   },
   "outputs": [
    {
     "name": "stdout",
     "output_type": "stream",
     "text": [
      "Since the p-value, 0.037 < 0.05 (alpha) the difference is significant and we reject the Null hypothesis\n"
     ]
    }
   ],
   "source": [
    "from statsmodels.stats.proportion import proportions_ztest\n",
    "\n",
    "test_statistic, p_value = proportions_ztest([contestants_operating, winners_operating], [contestants, winners])\n",
    "\n",
    "if p_value <= alpha:\n",
    "    print(f'Since the p-value, {round(p_value, 3)} < {alpha} (alpha) the difference is significant and we reject the Null hypothesis')\n",
    "else:\n",
    "    print(f'''\\t Since the p-value, {round(p_value,3)} > {alpha} (alpha) the difference is not significant and,\n",
    "    \\t we fail to reject the Null hypothesis''')"
   ]
  },
  {
   "cell_type": "markdown",
   "metadata": {
    "colab_type": "text",
    "id": "UGIDSk04PS_6"
   },
   "source": [
    "# Conclusion:\n",
    "- The amount of funds a company raises is not a significant factor in deciding if the company will remain operational or close down\n",
    "- Winners in the tech-crunch battle have proven to remain operational more so, than the companies that came out only as contestants"
   ]
  },
  {
   "cell_type": "markdown",
   "metadata": {
    "colab_type": "text",
    "id": "sq6uZ4VXPS_7"
   },
   "source": [
    "# Bonus"
   ]
  },
  {
   "cell_type": "markdown",
   "metadata": {
    "colab_type": "text",
    "id": "9A0MB2VIPS_8"
   },
   "source": [
    "We have the information about the event location where each company has participated and in which year so what we want to do is, see if there is a significant difference among the funds raised by the companies from New York, San Fransisco and Europe (EU and London combined)"
   ]
  },
  {
   "cell_type": "code",
   "execution_count": 27,
   "metadata": {
    "colab": {
     "base_uri": "https://localhost:8080/",
     "height": 357
    },
    "colab_type": "code",
    "executionInfo": {
     "elapsed": 990,
     "status": "ok",
     "timestamp": 1591877976599,
     "user": {
      "displayName": "Rachan Goalla",
      "photoUrl": "",
      "userId": "08928234019513120444"
     },
     "user_tz": -330
    },
    "id": "tkGft459PS_8",
    "outputId": "00f021fa-b3ba-42d2-c19c-31a1e96f83db"
   },
   "outputs": [
    {
     "data": {
      "text/plain": [
       "Disrupt NY 2015         21\n",
       "Disrupt SF 2014         19\n",
       "Disrupt SF 2013         19\n",
       "Disrupt SF 2011         19\n",
       "Disrupt NYC 2013        19\n",
       "Disrupt SF 2015         19\n",
       "Disrupt NYC 2012        19\n",
       "Disrupt SF 2016         17\n",
       "Disrupt NY 2016         16\n",
       "Disrupt SF 2012         15\n",
       "Disrupt NYC 2014        15\n",
       "Disrupt NYC 2011        15\n",
       "Disrupt SF 2010         13\n",
       "Disrupt London 2015     11\n",
       "Disrupt NYC 2010        10\n",
       "Disrupt London 2016     10\n",
       "Disrupt EU 2014         10\n",
       "Disrupt EU 2013          9\n",
       "Disrupt Beijing 2011     4\n",
       "Name: Event, dtype: int64"
      ]
     },
     "execution_count": 27,
     "metadata": {
      "tags": []
     },
     "output_type": "execute_result"
    }
   ],
   "source": [
    "df1[df1.Event.apply(lambda x: 'Disrupt' in x)].Event.value_counts()"
   ]
  },
  {
   "cell_type": "markdown",
   "metadata": {
    "colab_type": "text",
    "id": "053y26gyPS__"
   },
   "source": [
    "- We have considered only the \"Tech Crunch Disrupt\" events\n",
    "- Since we have the data for the EU only from 2013, we'll drop the records pertaining to events earlier than 2013"
   ]
  },
  {
   "cell_type": "code",
   "execution_count": 28,
   "metadata": {
    "colab": {
     "base_uri": "https://localhost:8080/",
     "height": 221
    },
    "colab_type": "code",
    "executionInfo": {
     "elapsed": 1044,
     "status": "ok",
     "timestamp": 1591877980285,
     "user": {
      "displayName": "Rachan Goalla",
      "photoUrl": "",
      "userId": "08928234019513120444"
     },
     "user_tz": -330
    },
    "id": "CUmUTboKPTAA",
    "outputId": "b3c9f5e4-821f-4d31-db0c-c0274040633a"
   },
   "outputs": [
    {
     "data": {
      "text/plain": [
       "1         Disrupt NYC 2013\n",
       "3          Disrupt NY 2016\n",
       "13         Disrupt SF 2015\n",
       "14     Disrupt London 2016\n",
       "16         Disrupt SF 2015\n",
       "              ...         \n",
       "635        Disrupt NY 2015\n",
       "641       Disrupt NYC 2013\n",
       "642        Disrupt SF 2014\n",
       "646    Disrupt London 2015\n",
       "660        Disrupt SF 2013\n",
       "Name: Event, Length: 185, dtype: object"
      ]
     },
     "execution_count": 28,
     "metadata": {
      "tags": []
     },
     "output_type": "execute_result"
    }
   ],
   "source": [
    "events = df1[df1.Event.apply(lambda x: 'Disrupt' in x and int(x[-4:]) > 2012)].Event  # all the events of relevance\n",
    "events"
   ]
  },
  {
   "cell_type": "code",
   "execution_count": 29,
   "metadata": {
    "colab": {
     "base_uri": "https://localhost:8080/",
     "height": 34
    },
    "colab_type": "code",
    "executionInfo": {
     "elapsed": 600,
     "status": "ok",
     "timestamp": 1591877982329,
     "user": {
      "displayName": "Rachan Goalla",
      "photoUrl": "",
      "userId": "08928234019513120444"
     },
     "user_tz": -330
    },
    "id": "E3Ggs9NOPTAE",
    "outputId": "e91d9af0-6412-4b76-ee16-1ecb7946d2e6"
   },
   "outputs": [
    {
     "name": "stdout",
     "output_type": "stream",
     "text": [
      "71 74 40\n"
     ]
    }
   ],
   "source": [
    "NY_events = df1.loc[events[events.apply(lambda x: 'NY' in x)].index, 'Funds_in_million']\n",
    "SF_events = df1.loc[events[events.apply(lambda x: 'SF' in x)].index, 'Funds_in_million']\n",
    "EU_events = df1.loc[events[events.apply(lambda x: 'EU' in x or 'London' in x)].index, 'Funds_in_million']\n",
    "print(len(NY_events), len(SF_events), len(EU_events))"
   ]
  },
  {
   "cell_type": "markdown",
   "metadata": {
    "colab_type": "text",
    "id": "tbfEeb9WPTAH"
   },
   "source": [
    "- Each of the three above variables hold the amount of funds with respect to the Cities where the even was organised\n",
    "- The sample sizes are different across the three categories and it is okay to perform ANOVA on samples of different sizes\n",
    "\n",
    "\n",
    "**Null Hypothesis(Ho)**: Average funds raised by companies across three cities are the same \n",
    "\n",
    "**Alternative Hypothesis(Ha)**: Average funds raised by companies across three cities are the different"
   ]
  },
  {
   "cell_type": "code",
   "execution_count": 30,
   "metadata": {
    "colab": {
     "base_uri": "https://localhost:8080/",
     "height": 387
    },
    "colab_type": "code",
    "executionInfo": {
     "elapsed": 1234,
     "status": "ok",
     "timestamp": 1591877984678,
     "user": {
      "displayName": "Rachan Goalla",
      "photoUrl": "",
      "userId": "08928234019513120444"
     },
     "user_tz": -330
    },
    "id": "noe83KdvPTAI",
    "outputId": "7621e911-bcac-44fd-d3be-ed97fdc743bf"
   },
   "outputs": [
    {
     "data": {
      "image/png": "[encoded data removed]",
      "text/plain": [
       "<Figure size 1080x432 with 1 Axes>"
      ]
     },
     "metadata": {
      "needs_background": "light",
      "tags": []
     },
     "output_type": "display_data"
    }
   ],
   "source": [
    "plt.figure(figsize=(15,6))\n",
    "sns.distplot(NY_events, color = 'Red', label = 'NY')\n",
    "sns.distplot(SF_events, color = 'Gold', label = 'SF')\n",
    "sns.distplot(EU_events, color = 'blue', label = 'EU')\n",
    "plt.legend()\n",
    "plt.show()\n"
   ]
  },
  {
   "cell_type": "markdown",
   "metadata": {
    "colab_type": "text",
    "id": "RMSwat4DPTAL"
   },
   "source": [
    "- Visually the distributions look quiet similar\n",
    "- The Modes of the three distributions are quiet the same\n",
    "- Dispersion in NY quiet high compared to the others\n",
    "- Let's see what the test says"
   ]
  },
  {
   "cell_type": "code",
   "execution_count": 31,
   "metadata": {
    "colab": {
     "base_uri": "https://localhost:8080/",
     "height": 51
    },
    "colab_type": "code",
    "executionInfo": {
     "elapsed": 1115,
     "status": "ok",
     "timestamp": 1591877987684,
     "user": {
      "displayName": "Rachan Goalla",
      "photoUrl": "",
      "userId": "08928234019513120444"
     },
     "user_tz": -330
    },
    "id": "yA2aICZEPTAL",
    "outputId": "975d5981-3b8d-4990-e9f5-a3765090f06c"
   },
   "outputs": [
    {
     "name": "stdout",
     "output_type": "stream",
     "text": [
      "\t Since the p-value, 0.628 > 0.05 (alpha) the difference is not significant and,\n",
      "    \t we fail to reject the Null hypothesis\n"
     ]
    }
   ],
   "source": [
    " "
   ]
  },
  {
   "cell_type": "markdown",
   "metadata": {
    "colab_type": "text",
    "id": "VtFqF_1hPTAO"
   },
   "source": [
    "- The distribution of funds raised by the companies across the three regions is the same\n",
    "- We found no evidence to say companies participating in certain regions have funds either significantly on the higher side or on the lower side"
   ]
  },
  {
   "cell_type": "markdown",
   "metadata": {
    "colab_type": "text",
    "id": "-2mjvrwrTEVK"
   },
   "source": [
    "![alt text](https://drive.google.com/uc?export=view&id=1UXScsVx_Wni_JuDdB8LeTnM6jsPfIwkW)\n",
    "\n",
    "Proprietary content. © Great Learning. All Rights Reserved. Unauthorized use or distribution prohibited."
   ]
  }
 ],
 "metadata": {
  "colab": {
   "name": "Week 3 - Mentor Case Study - 3 - Applied Statistics - JPMC.ipynb",
   "provenance": [],
   "toc_visible": true
  },
  "kernelspec": {
   "display_name": "Python 3",
   "language": "python",
   "name": "python3"
  },
  "language_info": {
   "codemirror_mode": {
    "name": "ipython",
    "version": 3
   },
   "file_extension": ".py",
   "mimetype": "text/x-python",
   "name": "python",
   "nbconvert_exporter": "python",
   "pygments_lexer": "ipython3",
   "version": "3.8.8"
  }
 },
 "nbformat": 4,
 "nbformat_minor": 1
}
