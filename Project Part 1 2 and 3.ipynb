{
 "cells": [
  {
   "cell_type": "code",
   "execution_count": null,
   "id": "0ca94925",
   "metadata": {},
   "outputs": [],
   "source": [
    "# Part ONE_ Qestion based\n",
    "# Q.1 \n",
    "#1. Refer to the above table and find the joint probability of the people who planned to purchase and actually placed an order.\n",
    "\n",
    "# 2. Refer to the above table and find the joint probability of the people who planned to purchase and actually placed an order, given that people planned to purchase.\n"
   ]
  },
  {
   "cell_type": "code",
   "execution_count": null,
   "id": "d07788be",
   "metadata": {},
   "outputs": [],
   "source": []
  },
  {
   "cell_type": "code",
   "execution_count": null,
   "id": "9eeb8f0c",
   "metadata": {},
   "outputs": [],
   "source": [
    "# Q.4 solved by using Bionomial distribution"
   ]
  },
  {
   "cell_type": "code",
   "execution_count": null,
   "id": "cfcb1e3e",
   "metadata": {},
   "outputs": [],
   "source": [
    "import numpy as np\n",
    "import scipy.stats as stats\n",
    "import matplotlib.pyplot as plt"
   ]
  },
  {
   "cell_type": "code",
   "execution_count": null,
   "id": "f1b9c00c",
   "metadata": {},
   "outputs": [],
   "source": [
    "n=3"
   ]
  },
  {
   "cell_type": "code",
   "execution_count": null,
   "id": "42307328",
   "metadata": {},
   "outputs": [],
   "source": [
    "p = 0.868"
   ]
  },
  {
   "cell_type": "code",
   "execution_count": null,
   "id": "05f893b1",
   "metadata": {},
   "outputs": [],
   "source": []
  }
 ],
 "metadata": {
  "kernelspec": {
   "display_name": "Python 3",
   "language": "python",
   "name": "python3"
  },
  "language_info": {
   "codemirror_mode": {
    "name": "ipython",
    "version": 3
   },
   "file_extension": ".py",
   "mimetype": "text/x-python",
   "name": "python",
   "nbconvert_exporter": "python",
   "pygments_lexer": "ipython3",
   "version": "3.8.8"
  }
 },
 "nbformat": 4,
 "nbformat_minor": 5
}
