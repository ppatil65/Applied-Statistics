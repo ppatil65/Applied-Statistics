{
 "cells": [
  {
   "cell_type": "code",
   "execution_count": 2,
   "id": "b3013c63",
   "metadata": {},
   "outputs": [],
   "source": [
    "# One sample testing\n",
    "\n",
    "import numpy as np\n",
    "from scipy.stats import ttest_1samp, wilcoxon\n",
    "from statsmodels.stats.power import ttest_power"
   ]
  },
  {
   "cell_type": "code",
   "execution_count": null,
   "id": "727ea324",
   "metadata": {},
   "outputs": [],
   "source": [
    "@ daily intake of enegy in kJ for 11 women\n",
    "daily_intake = np.array([5260, 5470, 5640, 6180,6515,\n",
    "                         6805,7515,7515,8230,8770])"
   ]
  },
  {
   "cell_type": "code",
   "execution_count": null,
   "id": "32c18281",
   "metadata": {},
   "outputs": [],
   "source": [
    "# one sample t-test\n",
    "#null hypothesis: expected "
   ]
  }
 ],
 "metadata": {
  "kernelspec": {
   "display_name": "Python 3",
   "language": "python",
   "name": "python3"
  },
  "language_info": {
   "codemirror_mode": {
    "name": "ipython",
    "version": 3
   },
   "file_extension": ".py",
   "mimetype": "text/x-python",
   "name": "python",
   "nbconvert_exporter": "python",
   "pygments_lexer": "ipython3",
   "version": "3.8.8"
  }
 },
 "nbformat": 4,
 "nbformat_minor": 5
}
