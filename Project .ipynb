{
 "cells": [
  {
   "cell_type": "markdown",
   "id": "4a9ca82c",
   "metadata": {},
   "source": [
    "# 1. Question:\n",
    "Please refer the table below to answer below questions:\n",
    "ned to purchase Product A Actually placed and order for Product A - Yes Actually placed and order for Product A - No Total\n",
    "Yes 400 100 500\n",
    "No 200 1300 1500\n",
    "Total 600 1400 2000\n",
    "\n",
    "1. Refer to the above table and find the joint probability of the people who planned to purchase and actually\n",
    "placed an order.\n",
    "\n",
    "2. Refer to the above table and find the joint probability of the people who planned to purchase and actually\n",
    "placed an order, given that people planned to purchase"
   ]
  },
  {
   "cell_type": "markdown",
   "id": "6e87c9b7",
   "metadata": {},
   "source": [
    "1. find the joint probability of the people who planned to purchase and actually placed an order.\n",
    "\n",
    "P= (400/2000)*(300/1000) = 3/50 = 0.06\n",
    "\n",
    "2. find the joint probability of the people who planned to purchase and actually placed an order, given that people planned to purchase.\n",
    "\n",
    "P= (400/2000)/(500/2000) = 0.8\n"
   ]
  },
  {
   "cell_type": "markdown",
   "id": "a403ac5b",
   "metadata": {},
   "source": [
    "2. Question:\n",
    "\n",
    "An electrical manufacturing company conducts quality checks at specified periods on the\n",
    "products it manufactures. Historically, the failure rate for the manufactured item is 5%. Suppose a random\n",
    "sample of 10 manufactured items is selected. Answer the following questions.\n",
    "A. Probability that none of the items are defective?\n",
    "B. Probability that exactly one of the items is defective?\n",
    "C. Probability that two or fewer of the items are defective?\n",
    "D. Probability that three or more of the items are defective ?"
   ]
  },
  {
   "cell_type": "code",
   "execution_count": 39,
   "id": "a1e20582",
   "metadata": {},
   "outputs": [],
   "source": [
    "p   =  0.05 # percentage of manufacturing failure rate is 5%\n",
    "n   =  10\n",
    "import numpy as np\n",
    "import pandas as pd\n",
    "import scipy.stats as stats\n",
    "import matplotlib.pyplot as plt\n",
    "k = np.arange(0,11)"
   ]
  },
  {
   "cell_type": "code",
   "execution_count": 40,
   "id": "1af6bc37",
   "metadata": {},
   "outputs": [],
   "source": [
    "from scipy.stats import binom\n",
    "import matplotlib.pyplot as plt\n",
    "binomial = stats.binom.pmf(k,n,p)"
   ]
  },
  {
   "cell_type": "code",
   "execution_count": 41,
   "id": "1570a383",
   "metadata": {},
   "outputs": [
    {
     "name": "stdout",
     "output_type": "stream",
     "text": [
      "[5.98736939e-01 3.15124705e-01 7.46347985e-02 1.04750594e-02\n",
      " 9.64808106e-04 6.09352488e-05 2.67259863e-06 8.03789063e-08\n",
      " 1.58642578e-09 1.85546875e-11 9.76562500e-14]\n"
     ]
    }
   ],
   "source": [
    "print(binomial)"
   ]
  },
  {
   "cell_type": "code",
   "execution_count": 78,
   "id": "77865a29",
   "metadata": {},
   "outputs": [
    {
     "name": "stdout",
     "output_type": "stream",
     "text": [
      "a) Probabilty that none of the items is defective? is 0.5987\n"
     ]
    }
   ],
   "source": [
    "print('a) Probabilty that none of the items is defective? is %1.4f' %binomial[0])"
   ]
  },
  {
   "cell_type": "code",
   "execution_count": 79,
   "id": "e1e09b87",
   "metadata": {},
   "outputs": [
    {
     "name": "stdout",
     "output_type": "stream",
     "text": [
      "b) Probabilty that exactly one of the items is defective? is 0.3151\n"
     ]
    }
   ],
   "source": [
    "print('b) Probabilty that exactly one of the items is defective? is %1.4f' %binomial[1])"
   ]
  },
  {
   "cell_type": "code",
   "execution_count": 80,
   "id": "16faa4ca",
   "metadata": {},
   "outputs": [
    {
     "name": "stdout",
     "output_type": "stream",
     "text": [
      "c) Probabilty that two or fewer of the items is defective? is 0.0746\n"
     ]
    }
   ],
   "source": [
    "print('c) Probabilty that two or fewer of the items is defective? is %1.4f' %binomial[2])"
   ]
  },
  {
   "cell_type": "code",
   "execution_count": 51,
   "id": "5121ecb9",
   "metadata": {},
   "outputs": [],
   "source": [
    "cumbinomial = stats.binom.cdf(k,n,p)"
   ]
  },
  {
   "cell_type": "code",
   "execution_count": 52,
   "id": "b73d65ca",
   "metadata": {},
   "outputs": [
    {
     "name": "stdout",
     "output_type": "stream",
     "text": [
      "[0.59873694 0.91386164 0.98849644 0.9989715  0.99993631 0.99999725\n",
      " 0.99999992 1.         1.         1.         1.        ]\n"
     ]
    }
   ],
   "source": [
    "print(cumbinomial)"
   ]
  },
  {
   "cell_type": "code",
   "execution_count": 81,
   "id": "f230d060",
   "metadata": {},
   "outputs": [
    {
     "name": "stdout",
     "output_type": "stream",
     "text": [
      "c) Probabilty that three or more of the items is defective? is 0.0115\n"
     ]
    }
   ],
   "source": [
    "P = 1 - cumbinomial[2]\n",
    "print('c) Probabilty that three or more of the items is defective? is %1.4f' % P)"
   ]
  },
  {
   "cell_type": "markdown",
   "id": "1db44819",
   "metadata": {},
   "source": [
    "3. Question: A car salesman sells on an average 3 cars per week.\n",
    "\n",
    "A. Probability that in a given week he will sell some cars.\n",
    "\n",
    "B. Probability that in a given week he will sell 2 or more but less than 5 cars.\n",
    "\n",
    "C. Plot the poisson distribution function for cumulative probability of cars sold per-week vs number of cars sold perweek."
   ]
  },
  {
   "cell_type": "code",
   "execution_count": 54,
   "id": "fce77978",
   "metadata": {},
   "outputs": [],
   "source": [
    "import numpy as np\n",
    "import scipy.stats as stats\n",
    "import matplotlib.pyplot as plt"
   ]
  },
  {
   "cell_type": "code",
   "execution_count": 55,
   "id": "9063d788",
   "metadata": {},
   "outputs": [],
   "source": [
    "# average rate, denoted with lambda in the formula for poission distribution\n",
    "\n",
    "rate = 3"
   ]
  },
  {
   "cell_type": "code",
   "execution_count": 56,
   "id": "6d55a304",
   "metadata": {},
   "outputs": [],
   "source": [
    "# construct a probabilty distribution.\n",
    "\n",
    "n = np.arange(0,3)"
   ]
  },
  {
   "cell_type": "code",
   "execution_count": 57,
   "id": "7af81ade",
   "metadata": {},
   "outputs": [],
   "source": [
    "# calculating the distribution and storing the distribution of probabilties in an array.\n",
    "\n",
    "#Probability Mass Function.\n",
    "poisson = stats.poisson.pmf(n,rate)"
   ]
  },
  {
   "cell_type": "code",
   "execution_count": 58,
   "id": "a1af02eb",
   "metadata": {},
   "outputs": [
    {
     "data": {
      "text/plain": [
       "array([0.04978707, 0.14936121, 0.22404181])"
      ]
     },
     "execution_count": 58,
     "metadata": {},
     "output_type": "execute_result"
    }
   ],
   "source": [
    "# printing the ptrobabilty distribution for different values of x\n",
    "\n",
    "poisson"
   ]
  },
  {
   "cell_type": "code",
   "execution_count": 59,
   "id": "c2d457ff",
   "metadata": {},
   "outputs": [
    {
     "name": "stdout",
     "output_type": "stream",
     "text": [
      "The probability that in a given week he willsell some cars:  0.950212931632136\n",
      "The probability of selling 2 or more policies but less than 5 policies in a week:  0.6161149710523164\n",
      "The probability that on a given day, he will sell one policy:  0.3292869816564159\n"
     ]
    }
   ],
   "source": [
    "from scipy.stats import poisson\n",
    "# Lambda\n",
    "mu=3\n",
    "# Probability that in a given week he willsell some cars.\n",
    "print(\"The probability that in a given week he willsell some cars: \", 1-poisson.pmf(k=0,mu=mu))\n",
    "# The probability that in a given week he will sell 2 or more policies but less than 5 policies in a week\n",
    "print(\"The probability of selling 2 or more policies but less than 5 policies in a week: \",sum(poisson.pmf(k=[2,3,4],mu=mu)))\n",
    "# Assuming that per week, there are `5` working days, what is the probability that on a given day, he will sell one policy?\n",
    "print(\"The probability that on a given day, he will sell one policy: \",poisson.pmf(k=1,mu=3/5))"
   ]
  },
  {
   "cell_type": "code",
   "execution_count": 60,
   "id": "b183125b",
   "metadata": {},
   "outputs": [
    {
     "ename": "ValueError",
     "evalue": "x and y must have same first dimension, but have shapes (3,) and (1,)",
     "output_type": "error",
     "traceback": [
      "\u001b[1;31m---------------------------------------------------------------------------\u001b[0m",
      "\u001b[1;31mValueError\u001b[0m                                Traceback (most recent call last)",
      "\u001b[1;32m<ipython-input-60-95ceee50f4de>\u001b[0m in \u001b[0;36m<module>\u001b[1;34m\u001b[0m\n\u001b[0;32m      1\u001b[0m \u001b[1;31m#visualising the plot with pyplot\u001b[0m\u001b[1;33m\u001b[0m\u001b[1;33m\u001b[0m\u001b[1;33m\u001b[0m\u001b[0m\n\u001b[0;32m      2\u001b[0m \u001b[1;33m\u001b[0m\u001b[0m\n\u001b[1;32m----> 3\u001b[1;33m \u001b[0mplt\u001b[0m\u001b[1;33m.\u001b[0m\u001b[0mplot\u001b[0m \u001b[1;33m(\u001b[0m\u001b[0mn\u001b[0m\u001b[1;33m,\u001b[0m\u001b[0mpoisson\u001b[0m\u001b[1;33m,\u001b[0m \u001b[1;34m'o-'\u001b[0m\u001b[1;33m)\u001b[0m\u001b[1;33m\u001b[0m\u001b[1;33m\u001b[0m\u001b[0m\n\u001b[0m\u001b[0;32m      4\u001b[0m \u001b[0mplt\u001b[0m\u001b[1;33m.\u001b[0m\u001b[0mtitle\u001b[0m\u001b[1;33m(\u001b[0m\u001b[1;34m'Poisson:$\\lambda$ = %i'\u001b[0m \u001b[1;33m%\u001b[0m\u001b[0mrate\u001b[0m\u001b[1;33m)\u001b[0m\u001b[1;33m\u001b[0m\u001b[1;33m\u001b[0m\u001b[0m\n\u001b[0;32m      5\u001b[0m \u001b[0mplt\u001b[0m\u001b[1;33m.\u001b[0m\u001b[0mxlabel\u001b[0m\u001b[1;33m(\u001b[0m\u001b[1;34m'Poission distribution function for cumulative probabilty of cars sold per-week'\u001b[0m\u001b[1;33m)\u001b[0m\u001b[1;33m\u001b[0m\u001b[1;33m\u001b[0m\u001b[0m\n",
      "\u001b[1;32m~\\anaconda3\\lib\\site-packages\\matplotlib\\pyplot.py\u001b[0m in \u001b[0;36mplot\u001b[1;34m(scalex, scaley, data, *args, **kwargs)\u001b[0m\n\u001b[0;32m   2838\u001b[0m \u001b[1;33m@\u001b[0m\u001b[0m_copy_docstring_and_deprecators\u001b[0m\u001b[1;33m(\u001b[0m\u001b[0mAxes\u001b[0m\u001b[1;33m.\u001b[0m\u001b[0mplot\u001b[0m\u001b[1;33m)\u001b[0m\u001b[1;33m\u001b[0m\u001b[1;33m\u001b[0m\u001b[0m\n\u001b[0;32m   2839\u001b[0m \u001b[1;32mdef\u001b[0m \u001b[0mplot\u001b[0m\u001b[1;33m(\u001b[0m\u001b[1;33m*\u001b[0m\u001b[0margs\u001b[0m\u001b[1;33m,\u001b[0m \u001b[0mscalex\u001b[0m\u001b[1;33m=\u001b[0m\u001b[1;32mTrue\u001b[0m\u001b[1;33m,\u001b[0m \u001b[0mscaley\u001b[0m\u001b[1;33m=\u001b[0m\u001b[1;32mTrue\u001b[0m\u001b[1;33m,\u001b[0m \u001b[0mdata\u001b[0m\u001b[1;33m=\u001b[0m\u001b[1;32mNone\u001b[0m\u001b[1;33m,\u001b[0m \u001b[1;33m**\u001b[0m\u001b[0mkwargs\u001b[0m\u001b[1;33m)\u001b[0m\u001b[1;33m:\u001b[0m\u001b[1;33m\u001b[0m\u001b[1;33m\u001b[0m\u001b[0m\n\u001b[1;32m-> 2840\u001b[1;33m     return gca().plot(\n\u001b[0m\u001b[0;32m   2841\u001b[0m         \u001b[1;33m*\u001b[0m\u001b[0margs\u001b[0m\u001b[1;33m,\u001b[0m \u001b[0mscalex\u001b[0m\u001b[1;33m=\u001b[0m\u001b[0mscalex\u001b[0m\u001b[1;33m,\u001b[0m \u001b[0mscaley\u001b[0m\u001b[1;33m=\u001b[0m\u001b[0mscaley\u001b[0m\u001b[1;33m,\u001b[0m\u001b[1;33m\u001b[0m\u001b[1;33m\u001b[0m\u001b[0m\n\u001b[0;32m   2842\u001b[0m         **({\"data\": data} if data is not None else {}), **kwargs)\n",
      "\u001b[1;32m~\\anaconda3\\lib\\site-packages\\matplotlib\\axes\\_axes.py\u001b[0m in \u001b[0;36mplot\u001b[1;34m(self, scalex, scaley, data, *args, **kwargs)\u001b[0m\n\u001b[0;32m   1741\u001b[0m         \"\"\"\n\u001b[0;32m   1742\u001b[0m         \u001b[0mkwargs\u001b[0m \u001b[1;33m=\u001b[0m \u001b[0mcbook\u001b[0m\u001b[1;33m.\u001b[0m\u001b[0mnormalize_kwargs\u001b[0m\u001b[1;33m(\u001b[0m\u001b[0mkwargs\u001b[0m\u001b[1;33m,\u001b[0m \u001b[0mmlines\u001b[0m\u001b[1;33m.\u001b[0m\u001b[0mLine2D\u001b[0m\u001b[1;33m)\u001b[0m\u001b[1;33m\u001b[0m\u001b[1;33m\u001b[0m\u001b[0m\n\u001b[1;32m-> 1743\u001b[1;33m         \u001b[0mlines\u001b[0m \u001b[1;33m=\u001b[0m \u001b[1;33m[\u001b[0m\u001b[1;33m*\u001b[0m\u001b[0mself\u001b[0m\u001b[1;33m.\u001b[0m\u001b[0m_get_lines\u001b[0m\u001b[1;33m(\u001b[0m\u001b[1;33m*\u001b[0m\u001b[0margs\u001b[0m\u001b[1;33m,\u001b[0m \u001b[0mdata\u001b[0m\u001b[1;33m=\u001b[0m\u001b[0mdata\u001b[0m\u001b[1;33m,\u001b[0m \u001b[1;33m**\u001b[0m\u001b[0mkwargs\u001b[0m\u001b[1;33m)\u001b[0m\u001b[1;33m]\u001b[0m\u001b[1;33m\u001b[0m\u001b[1;33m\u001b[0m\u001b[0m\n\u001b[0m\u001b[0;32m   1744\u001b[0m         \u001b[1;32mfor\u001b[0m \u001b[0mline\u001b[0m \u001b[1;32min\u001b[0m \u001b[0mlines\u001b[0m\u001b[1;33m:\u001b[0m\u001b[1;33m\u001b[0m\u001b[1;33m\u001b[0m\u001b[0m\n\u001b[0;32m   1745\u001b[0m             \u001b[0mself\u001b[0m\u001b[1;33m.\u001b[0m\u001b[0madd_line\u001b[0m\u001b[1;33m(\u001b[0m\u001b[0mline\u001b[0m\u001b[1;33m)\u001b[0m\u001b[1;33m\u001b[0m\u001b[1;33m\u001b[0m\u001b[0m\n",
      "\u001b[1;32m~\\anaconda3\\lib\\site-packages\\matplotlib\\axes\\_base.py\u001b[0m in \u001b[0;36m__call__\u001b[1;34m(self, data, *args, **kwargs)\u001b[0m\n\u001b[0;32m    271\u001b[0m                 \u001b[0mthis\u001b[0m \u001b[1;33m+=\u001b[0m \u001b[0margs\u001b[0m\u001b[1;33m[\u001b[0m\u001b[1;36m0\u001b[0m\u001b[1;33m]\u001b[0m\u001b[1;33m,\u001b[0m\u001b[1;33m\u001b[0m\u001b[1;33m\u001b[0m\u001b[0m\n\u001b[0;32m    272\u001b[0m                 \u001b[0margs\u001b[0m \u001b[1;33m=\u001b[0m \u001b[0margs\u001b[0m\u001b[1;33m[\u001b[0m\u001b[1;36m1\u001b[0m\u001b[1;33m:\u001b[0m\u001b[1;33m]\u001b[0m\u001b[1;33m\u001b[0m\u001b[1;33m\u001b[0m\u001b[0m\n\u001b[1;32m--> 273\u001b[1;33m             \u001b[1;32myield\u001b[0m \u001b[1;32mfrom\u001b[0m \u001b[0mself\u001b[0m\u001b[1;33m.\u001b[0m\u001b[0m_plot_args\u001b[0m\u001b[1;33m(\u001b[0m\u001b[0mthis\u001b[0m\u001b[1;33m,\u001b[0m \u001b[0mkwargs\u001b[0m\u001b[1;33m)\u001b[0m\u001b[1;33m\u001b[0m\u001b[1;33m\u001b[0m\u001b[0m\n\u001b[0m\u001b[0;32m    274\u001b[0m \u001b[1;33m\u001b[0m\u001b[0m\n\u001b[0;32m    275\u001b[0m     \u001b[1;32mdef\u001b[0m \u001b[0mget_next_color\u001b[0m\u001b[1;33m(\u001b[0m\u001b[0mself\u001b[0m\u001b[1;33m)\u001b[0m\u001b[1;33m:\u001b[0m\u001b[1;33m\u001b[0m\u001b[1;33m\u001b[0m\u001b[0m\n",
      "\u001b[1;32m~\\anaconda3\\lib\\site-packages\\matplotlib\\axes\\_base.py\u001b[0m in \u001b[0;36m_plot_args\u001b[1;34m(self, tup, kwargs)\u001b[0m\n\u001b[0;32m    397\u001b[0m \u001b[1;33m\u001b[0m\u001b[0m\n\u001b[0;32m    398\u001b[0m         \u001b[1;32mif\u001b[0m \u001b[0mx\u001b[0m\u001b[1;33m.\u001b[0m\u001b[0mshape\u001b[0m\u001b[1;33m[\u001b[0m\u001b[1;36m0\u001b[0m\u001b[1;33m]\u001b[0m \u001b[1;33m!=\u001b[0m \u001b[0my\u001b[0m\u001b[1;33m.\u001b[0m\u001b[0mshape\u001b[0m\u001b[1;33m[\u001b[0m\u001b[1;36m0\u001b[0m\u001b[1;33m]\u001b[0m\u001b[1;33m:\u001b[0m\u001b[1;33m\u001b[0m\u001b[1;33m\u001b[0m\u001b[0m\n\u001b[1;32m--> 399\u001b[1;33m             raise ValueError(f\"x and y must have same first dimension, but \"\n\u001b[0m\u001b[0;32m    400\u001b[0m                              f\"have shapes {x.shape} and {y.shape}\")\n\u001b[0;32m    401\u001b[0m         \u001b[1;32mif\u001b[0m \u001b[0mx\u001b[0m\u001b[1;33m.\u001b[0m\u001b[0mndim\u001b[0m \u001b[1;33m>\u001b[0m \u001b[1;36m2\u001b[0m \u001b[1;32mor\u001b[0m \u001b[0my\u001b[0m\u001b[1;33m.\u001b[0m\u001b[0mndim\u001b[0m \u001b[1;33m>\u001b[0m \u001b[1;36m2\u001b[0m\u001b[1;33m:\u001b[0m\u001b[1;33m\u001b[0m\u001b[1;33m\u001b[0m\u001b[0m\n",
      "\u001b[1;31mValueError\u001b[0m: x and y must have same first dimension, but have shapes (3,) and (1,)"
     ]
    },
    {
     "data": {
      "image/png": "[encoded data removed]",
      "text/plain": [
       "<Figure size 432x288 with 1 Axes>"
      ]
     },
     "metadata": {
      "needs_background": "light"
     },
     "output_type": "display_data"
    }
   ],
   "source": [
    "#visualising the plot with pyplot\n",
    "\n",
    "plt.plot (n,poisson, 'o-')\n",
    "plt.title('Poisson:$\\lambda$ = %i' %rate)\n",
    "plt.xlabel('Poission distribution function for cumulative probabilty of cars sold per-week')\n",
    "plt.ylabel('Number of cars sold per week')\n",
    "plt.show()"
   ]
  },
  {
   "cell_type": "markdown",
   "id": "915dd0e1",
   "metadata": {},
   "source": [
    "# 4. Question: \n",
    "Accuracy in understanding orders for a speech based bot at a restaurant is important for the\n",
    "Company X which has designed, marketed and launched the product for a contactless delivery due to the\n",
    "COVID-19 pandemic. Recognition accuracy that measures the percentage of orders that are taken correctly is\n",
    "86.8%. Suppose that you place order with the bot and two friends of yours independently place orders with\n",
    "the same bot. Answer the following questions.\n",
    "\n",
    "A. What is the probability that all three orders will be recognised correctly?\n",
    "\n",
    "B. What is the probability that none of the three orders will be recognised correctly?\n",
    "\n",
    "C. What is the probability that at least two of the three orders will be recognised correctly?"
   ]
  },
  {
   "cell_type": "markdown",
   "id": "451ccc1d",
   "metadata": {},
   "source": [
    "# A. What is the probability that all three orders will be recognised correctly?\n",
    "\n",
    "p =0.868, n=3, X=3\n",
    "\n",
    "Apply the formula, substituting these values: P(X=3)= 3C3 * 0.868^3 * 0.132^3 = 0.6539\n",
    "That is, the probability that all three orders will be recognised correctly is 0.6539 (65%).\n",
    "\n",
    "# B. What is the probability that none of the three orders will be recognised correctly?\n",
    "\n",
    "p =0.868, n=3, X=0\n",
    "\n",
    "Apply the formula, substituting these values: P(X=0)= 3c0 * 0.868^0 * 0.132^3 = 0.0022\n",
    "That is, the probability that none of the three orders will be recognised correctly is 0.0022 (0.22%).\n",
    "\n",
    "# C. What is the probability that at least two of the three orders will be recognised correctly?\n",
    "\n",
    "p =0.868, n=3, X>=2\n",
    "\n",
    "Apply the formula, substituting these values: P(X>=2)= P(x=2)+ P(x=3) = 0.2983 + 0.6539 = 0.9522\n",
    "That is, the probability that at least two of the three orders will be recognised correctly is 0.9522 (95%).\n",
    "# OR "
   ]
  },
  {
   "cell_type": "code",
   "execution_count": 27,
   "id": "3dd05a08",
   "metadata": {},
   "outputs": [],
   "source": [
    "p   =  0.868 # percentage of orders taken correctly is 86.8%\n",
    "n   =  3\n",
    "import numpy as np\n",
    "import pandas as pd\n",
    "import scipy.stats as stats\n",
    "import matplotlib.pyplot as plt\n",
    "k = np.arange(0,4)"
   ]
  },
  {
   "cell_type": "code",
   "execution_count": 28,
   "id": "ade4413a",
   "metadata": {},
   "outputs": [],
   "source": [
    "from scipy.stats import binom\n",
    "import matplotlib.pyplot as plt\n",
    "binomial = stats.binom.pmf(k,n,p)"
   ]
  },
  {
   "cell_type": "code",
   "execution_count": 29,
   "id": "d19290dd",
   "metadata": {},
   "outputs": [
    {
     "name": "stdout",
     "output_type": "stream",
     "text": [
      "[0.00229997 0.0453721  0.2983559  0.65397203]\n"
     ]
    }
   ],
   "source": [
    "print(binomial)"
   ]
  },
  {
   "cell_type": "code",
   "execution_count": 30,
   "id": "8649e485",
   "metadata": {},
   "outputs": [
    {
     "name": "stdout",
     "output_type": "stream",
     "text": [
      "a) all the three orders are filled correctly? is 0.6540\n"
     ]
    }
   ],
   "source": [
    "print('a) all the three orders are filled correctly? is %1.4f' %binomial[3])"
   ]
  },
  {
   "cell_type": "code",
   "execution_count": 31,
   "id": "e9e353f0",
   "metadata": {},
   "outputs": [
    {
     "name": "stdout",
     "output_type": "stream",
     "text": [
      "b) none of the three orders are filled correctly? is 0.0023\n"
     ]
    }
   ],
   "source": [
    "print('b) none of the three orders are filled correctly? is %1.4f' %binomial[0])"
   ]
  },
  {
   "cell_type": "code",
   "execution_count": 36,
   "id": "136885dd",
   "metadata": {},
   "outputs": [],
   "source": [
    "cumbinomial = stats.binom.cdf(k,n,p)"
   ]
  },
  {
   "cell_type": "code",
   "execution_count": 37,
   "id": "8193d25c",
   "metadata": {},
   "outputs": [
    {
     "name": "stdout",
     "output_type": "stream",
     "text": [
      "[0.00229997 0.04767206 0.34602797 1.        ]\n"
     ]
    }
   ],
   "source": [
    "print(cumbinomial)"
   ]
  },
  {
   "cell_type": "code",
   "execution_count": 35,
   "id": "f114089a",
   "metadata": {},
   "outputs": [
    {
     "name": "stdout",
     "output_type": "stream",
     "text": [
      "c) atleast two of the three orders are filled correctly? is 0.9523\n"
     ]
    }
   ],
   "source": [
    "P = 1 - cumbinomial[1]\n",
    "print('c) atleast two of the three orders are filled correctly? is %1.4f' % P)"
   ]
  },
  {
   "cell_type": "markdown",
   "id": "a4de3cd2",
   "metadata": {},
   "source": [
    "# 5. Question: \n",
    "A group of 300 professionals sat for a competitive exam. The results show the information of\n",
    "marks obtained by them have a mean of 60 and a standard deviation of 12. The pattern of marks follows a\n",
    "normal distribution. Answer the following questions.\n",
    "\n",
    "A. What is the percentage of students who score more than 80.\n",
    "\n",
    "B. What is the percentage of students who score less than 50.\n",
    "\n",
    "C. What should be the distinction mark if the highest 10% of students are to be awarded distinction?"
   ]
  },
  {
   "cell_type": "code",
   "execution_count": 8,
   "id": "09ae8198",
   "metadata": {},
   "outputs": [
    {
     "data": {
      "text/plain": [
       "-0.8333333333333334"
      ]
     },
     "execution_count": 8,
     "metadata": {},
     "output_type": "execute_result"
    }
   ],
   "source": [
    "# B) #for problem a - Calculate the z value\n",
    "\n",
    "z=(50-60)/12\n",
    "z"
   ]
  },
  {
   "cell_type": "code",
   "execution_count": 10,
   "id": "a5e03e84",
   "metadata": {},
   "outputs": [
    {
     "data": {
      "text/plain": [
       "0.20232838096364308"
      ]
     },
     "execution_count": 10,
     "metadata": {},
     "output_type": "execute_result"
    }
   ],
   "source": [
    "#Use the calculated z value to calculate the probability or the area under curve to the left of this z value\n",
    "\n",
    "stats.norm.cdf(z)"
   ]
  },
  {
   "cell_type": "code",
   "execution_count": 11,
   "id": "fca8e4f7",
   "metadata": {},
   "outputs": [
    {
     "data": {
      "text/plain": [
       "0.20232838096364308"
      ]
     },
     "execution_count": 11,
     "metadata": {},
     "output_type": "execute_result"
    }
   ],
   "source": [
    "#Use the orginal values to calculate the probability\n",
    "\n",
    "stats.norm.cdf(50,loc=60,scale=12)"
   ]
  },
  {
   "cell_type": "code",
   "execution_count": 12,
   "id": "1d73c257",
   "metadata": {},
   "outputs": [
    {
     "data": {
      "text/plain": [
       "0.047790352272814696"
      ]
     },
     "execution_count": 12,
     "metadata": {},
     "output_type": "execute_result"
    }
   ],
   "source": [
    "#a) The probability (area) to the right is calculated as (1 - probability to the left)\n",
    "\n",
    "1-stats.norm.cdf(80,loc=60,scale=12)"
   ]
  },
  {
   "cell_type": "code",
   "execution_count": null,
   "id": "a5b3a58e",
   "metadata": {},
   "outputs": [],
   "source": [
    "# C) What should be the distinction mark if the highest 10% of students are to be awarded distinction?"
   ]
  },
  {
   "cell_type": "code",
   "execution_count": null,
   "id": "2eb40220",
   "metadata": {},
   "outputs": [],
   "source": []
  },
  {
   "cell_type": "markdown",
   "id": "5de7b20f",
   "metadata": {},
   "source": [
    "6. Question: \n",
    "Explain 1 real life industry scenario [other than the ones mentioned above] where you can use the\n",
    "concepts learnt in this module of Applied statistics to get a data driven business solution."
   ]
  },
  {
   "cell_type": "markdown",
   "id": "a8a42962",
   "metadata": {},
   "source": [
    "# Seven batches of articles are manufactured. Each batch contains ten articles. Each article has,\n",
    "independently, a probability of 0.1 of being defective. Find the probability that there is at least one\n",
    "defective article\n",
    "(a) in exactly four of the batches,\n",
    "(b) in four or more of the batches.\n",
    "\n",
    "\n",
    "®Answers\n",
    "11.\n",
    "The probability of at least one defective in a batch is 1 −0.910 = 0.6513.\n",
    "Let the probability of at least one defective in exactly j batches be pj .\n",
    "(a) p4 =\n",
    "(7\n",
    "4\n",
    ")(1 −0.910)4 (0.910)3 = 35 ×0.65134 ×0.34873 = 0.2670.\n",
    "(b)\n",
    "p5 =\n",
    "(7\n",
    "5\n",
    ")(1 −0.910)5 (0.910)2 = 21 ×0.65135 ×0.34872 = 0.2993.\n",
    "p6 =\n",
    "(7\n",
    "6\n",
    ")(1 −0.910)6 (0.910)1 = 7 ×0.65136 ×0.34871 = 0.1863.\n",
    "p7 =\n",
    "(7\n",
    "7\n",
    ")(1 −0.910)7 (0.910)0 = 0.65137 = 0.0497.\n",
    "The probability of at least one defective in four or more of the batches is\n",
    "p4 + p5 + p6 + p7 = 0.8023.\n",
    "\n",
    "\n",
    "\n",
    "\n",
    "\n",
    "\n",
    "\n",
    "\n"
   ]
  },
  {
   "cell_type": "code",
   "execution_count": 48,
   "id": "3c5bc18f",
   "metadata": {},
   "outputs": [],
   "source": [
    "# using Binomial distribution\n",
    "\n",
    "p   =  0.9 # percentage of orders taken correctly is 90%\n",
    "n   =  7\n",
    "import numpy as np\n",
    "import pandas as pd\n",
    "import scipy.stats as stats\n",
    "import matplotlib.pyplot as plt\n",
    "k = np.arange(0,7)"
   ]
  },
  {
   "cell_type": "code",
   "execution_count": 36,
   "id": "bae75b9a",
   "metadata": {},
   "outputs": [],
   "source": [
    "from scipy.stats import binom\n",
    "import matplotlib.pyplot as plt\n",
    "binomial = stats.binom.pmf(k,n,p)"
   ]
  },
  {
   "cell_type": "code",
   "execution_count": 37,
   "id": "3156ac3d",
   "metadata": {},
   "outputs": [
    {
     "name": "stdout",
     "output_type": "stream",
     "text": [
      "[0.6561 0.2916 0.0486 0.0036]\n"
     ]
    }
   ],
   "source": [
    "print(binomial)"
   ]
  },
  {
   "cell_type": "code",
   "execution_count": 49,
   "id": "f6d04953",
   "metadata": {},
   "outputs": [
    {
     "ename": "IndexError",
     "evalue": "index 4 is out of bounds for axis 0 with size 4",
     "output_type": "error",
     "traceback": [
      "\u001b[1;31m---------------------------------------------------------------------------\u001b[0m",
      "\u001b[1;31mIndexError\u001b[0m                                Traceback (most recent call last)",
      "\u001b[1;32m<ipython-input-49-1a494bd35819>\u001b[0m in \u001b[0;36m<module>\u001b[1;34m\u001b[0m\n\u001b[1;32m----> 1\u001b[1;33m \u001b[0mprint\u001b[0m\u001b[1;33m(\u001b[0m\u001b[1;34m'a) all the  works is %1.8f'\u001b[0m \u001b[1;33m%\u001b[0m \u001b[0mbinomial\u001b[0m\u001b[1;33m[\u001b[0m\u001b[1;36m4\u001b[0m\u001b[1;33m]\u001b[0m\u001b[1;33m)\u001b[0m\u001b[1;33m\u001b[0m\u001b[1;33m\u001b[0m\u001b[0m\n\u001b[0m",
      "\u001b[1;31mIndexError\u001b[0m: index 4 is out of bounds for axis 0 with size 4"
     ]
    }
   ],
   "source": [
    "print('a) all the  works is %1.8f' % binomial[4])"
   ]
  },
  {
   "cell_type": "code",
   "execution_count": 29,
   "id": "6929227e",
   "metadata": {},
   "outputs": [
    {
     "name": "stdout",
     "output_type": "stream",
     "text": [
      "(a) all the 30 works is 0.41812034\n"
     ]
    }
   ],
   "source": [
    "print('(a) all the 30 works is %1.8f' % binomial[0])"
   ]
  },
  {
   "cell_type": "code",
   "execution_count": 30,
   "id": "3beeb56f",
   "metadata": {},
   "outputs": [
    {
     "name": "stdout",
     "output_type": "stream",
     "text": [
      "(a) all the 30 works is 0.15751902\n"
     ]
    }
   ],
   "source": [
    "print('(a) all the 30 works is %1.8f' % binomial[2])"
   ]
  },
  {
   "cell_type": "code",
   "execution_count": 31,
   "id": "f3ab3f63",
   "metadata": {},
   "outputs": [
    {
     "name": "stdout",
     "output_type": "stream",
     "text": [
      "(a) all the 30 works is 0.04145237\n"
     ]
    }
   ],
   "source": [
    "print('(a) all the 30 works is %1.8f' % binomial[3])"
   ]
  },
  {
   "cell_type": "code",
   "execution_count": 32,
   "id": "737564dd",
   "metadata": {},
   "outputs": [],
   "source": [
    "cumbinomial = stats.binom.cdf(k,n,p)"
   ]
  },
  {
   "cell_type": "code",
   "execution_count": 33,
   "id": "d57adecb",
   "metadata": {},
   "outputs": [
    {
     "name": "stdout",
     "output_type": "stream",
     "text": [
      "[0.41812034 0.792228   0.94974702 0.9911994  0.99883536 0.99988028\n",
      " 0.99999027 0.99999937 0.99999997 1.         1.         1.\n",
      " 1.         1.         1.         1.         1.        ]\n"
     ]
    }
   ],
   "source": [
    "print(cumbinomial)"
   ]
  },
  {
   "cell_type": "code",
   "execution_count": 47,
   "id": "04014986",
   "metadata": {},
   "outputs": [
    {
     "name": "stdout",
     "output_type": "stream",
     "text": [
      "c) atleast two of the three orders are filled correctly? is 0.2078\n"
     ]
    }
   ],
   "source": [
    "P = 1 - cumbinomial[1]\n",
    "print('c) atleast two of the three orders are filled correctly? is %1.4f' % P)"
   ]
  },
  {
   "cell_type": "code",
   "execution_count": null,
   "id": "02645e07",
   "metadata": {},
   "outputs": [],
   "source": []
  },
  {
   "cell_type": "code",
   "execution_count": null,
   "id": "ac4931f3",
   "metadata": {},
   "outputs": [],
   "source": []
  },
  {
   "cell_type": "code",
   "execution_count": null,
   "id": "8e43d398",
   "metadata": {},
   "outputs": [],
   "source": []
  },
  {
   "cell_type": "code",
   "execution_count": null,
   "id": "2874cd3e",
   "metadata": {},
   "outputs": [],
   "source": []
  },
  {
   "cell_type": "markdown",
   "id": "c706d154",
   "metadata": {},
   "source": [
    "# Part TWO\n",
    "Company X manages the men's top professional basketball division of the American league system. The dataset contains information on all the teams that have participated in all the past tournaments. It has data about how many baskets each team scored, conceded, how many times they came within the first 2 positions, how many tournaments they have qualified, their best position in the past, etc."
   ]
  },
  {
   "cell_type": "code",
   "execution_count": 61,
   "id": "7f13145e",
   "metadata": {},
   "outputs": [],
   "source": [
    "# loading required libraries.\n",
    "import pandas as pd\n",
    "import matplotlib.pyplot as plt"
   ]
  },
  {
   "cell_type": "code",
   "execution_count": null,
   "id": "2cc8b122",
   "metadata": {},
   "outputs": [],
   "source": [
    "df = pd. read_csv(\"Basketball.csv\")"
   ]
  }
 ],
 "metadata": {
  "kernelspec": {
   "display_name": "Python 3",
   "language": "python",
   "name": "python3"
  },
  "language_info": {
   "codemirror_mode": {
    "name": "ipython",
    "version": 3
   },
   "file_extension": ".py",
   "mimetype": "text/x-python",
   "name": "python",
   "nbconvert_exporter": "python",
   "pygments_lexer": "ipython3",
   "version": "3.8.8"
  }
 },
 "nbformat": 4,
 "nbformat_minor": 5
}
