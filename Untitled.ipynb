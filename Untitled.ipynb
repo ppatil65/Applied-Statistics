{
 "cells": [
  {
   "cell_type": "code",
   "execution_count": 1,
   "id": "9ec36933",
   "metadata": {},
   "outputs": [],
   "source": [
    "# loading required libraries.\n",
    "import numpy as np\n",
    "import pandas as pd\n",
    "import matplotlib.pyplot as plt\n",
    "import seaborn as sns"
   ]
  },
  {
   "cell_type": "code",
   "execution_count": 3,
   "id": "d27589f3",
   "metadata": {},
   "outputs": [
    {
     "name": "stdout",
     "output_type": "stream",
     "text": [
      "[4.23911583e-02 1.41303861e-01 2.27656220e-01 2.36087932e-01\n",
      " 1.77065949e-01 1.02304771e-01 4.73633197e-02 1.80431694e-02\n",
      " 5.76379023e-03 1.56547389e-03 3.65277241e-04 7.37933820e-05\n",
      " 1.29821691e-05 1.99725678e-06 2.69471153e-07 3.19373218e-08\n",
      " 3.32680435e-09 3.04413470e-10 2.44282414e-11 1.71426256e-12\n",
      " 1.04760490e-13 5.54288305e-15 2.51949230e-16 9.73716829e-18\n",
      " 3.15556380e-19 8.41483679e-21 1.79804205e-22 2.95974000e-24\n",
      " 3.52350000e-26 2.70000000e-28 1.00000000e-30]\n"
     ]
    }
   ],
   "source": [
    "# In a box of switches it is known 10% of the switches are faulty. A technician is wiring 30 circiuts, each of which needs one switch. What is the probabilty that a) at most 2 of the ciruits do not work? b) all 30 works.\n",
    "\n",
    "# using Binomial distribution\n",
    "\n",
    "p   =  0.1 # percentage of faulty switches are 90%\n",
    "n   =  30\n",
    "import numpy as np\n",
    "import pandas as pd\n",
    "import scipy.stats as stats\n",
    "import matplotlib.pyplot as plt\n",
    "k = np.arange(0,31)\n",
    "\n",
    "\n",
    "\n"
   ]
  },
  {
   "cell_type": "code",
   "execution_count": 5,
   "id": "985e248c",
   "metadata": {},
   "outputs": [],
   "source": [
    "from scipy.stats import binom\n",
    "import matplotlib.pyplot as plt\n",
    "binomial = stats.binom.pmf(k,n,p)"
   ]
  },
  {
   "cell_type": "code",
   "execution_count": 6,
   "id": "9956cac4",
   "metadata": {},
   "outputs": [
    {
     "name": "stdout",
     "output_type": "stream",
     "text": [
      "[4.23911583e-02 1.41303861e-01 2.27656220e-01 2.36087932e-01\n",
      " 1.77065949e-01 1.02304771e-01 4.73633197e-02 1.80431694e-02\n",
      " 5.76379023e-03 1.56547389e-03 3.65277241e-04 7.37933820e-05\n",
      " 1.29821691e-05 1.99725678e-06 2.69471153e-07 3.19373218e-08\n",
      " 3.32680435e-09 3.04413470e-10 2.44282414e-11 1.71426256e-12\n",
      " 1.04760490e-13 5.54288305e-15 2.51949230e-16 9.73716829e-18\n",
      " 3.15556380e-19 8.41483679e-21 1.79804205e-22 2.95974000e-24\n",
      " 3.52350000e-26 2.70000000e-28 1.00000000e-30]\n"
     ]
    }
   ],
   "source": [
    "print(binomial)"
   ]
  },
  {
   "cell_type": "code",
   "execution_count": 8,
   "id": "3ff1311e",
   "metadata": {},
   "outputs": [
    {
     "name": "stdout",
     "output_type": "stream",
     "text": [
      "a) at the most two circuits do not work is 0.141303860917388\n"
     ]
    }
   ],
   "source": [
    "print('a) at the most two circuits do not work is %1.15f' %binomial[1])"
   ]
  },
  {
   "cell_type": "code",
   "execution_count": null,
   "id": "a94dd0ff",
   "metadata": {},
   "outputs": [],
   "source": []
  }
 ],
 "metadata": {
  "kernelspec": {
   "display_name": "Python 3",
   "language": "python",
   "name": "python3"
  },
  "language_info": {
   "codemirror_mode": {
    "name": "ipython",
    "version": 3
   },
   "file_extension": ".py",
   "mimetype": "text/x-python",
   "name": "python",
   "nbconvert_exporter": "python",
   "pygments_lexer": "ipython3",
   "version": "3.8.8"
  }
 },
 "nbformat": 4,
 "nbformat_minor": 5
}
